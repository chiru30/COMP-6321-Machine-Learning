{
 "cells": [
  {
   "cell_type": "markdown",
   "metadata": {
    "id": "voe0xG57Lo6z"
   },
   "source": [
    "# Lab Week 5 - Convolutional Neural Networks\n",
    "\n",
    "In this lab you'll use [PyTorch](https://pytorch.org/) to:\n",
    "* train a *convolutional neural network* (CNN, or ConvNet) on <u>1D synthetic data</u> and on <u>2D real data</u>;\n",
    "* learn how to inspect the filters and the feature maps of your model, to ensure you understand the inner workings (intermediate representations) that are computed during the feed-forward computation of a ConvNet;\n",
    "* learn how a ConvNet training can get stuck in a local minimum, and how increasing the number of filters helps.\n",
    "\n",
    "\n",
    "**Run the code cell below** to import the required packages."
   ]
  },
  {
   "cell_type": "code",
   "execution_count": 1,
   "metadata": {
    "id": "qzSrkqWcLo63"
   },
   "outputs": [],
   "source": [
    "import numpy as np\n",
    "import matplotlib.pyplot as plt\n",
    "import torch\n",
    "import copy\n",
    "np.set_printoptions(precision=3, suppress=True)  # Print as 0.001 instead of 9.876e-4\n",
    "torch.set_printoptions(precision=3, sci_mode=False)"
   ]
  },
  {
   "cell_type": "markdown",
   "metadata": {
    "id": "VldVIucZLo66"
   },
   "source": [
    "**Run the code cell below** to define a plotting function that is useful for visualizing the weights of neural networks and images."
   ]
  },
  {
   "cell_type": "code",
   "execution_count": 2,
   "metadata": {
    "id": "mYSnlK-dLo67"
   },
   "outputs": [],
   "source": [
    "def plot_matrix_grid(V, cmap='bwr'):\n",
    "    \"\"\"\n",
    "    Given an array V containing stacked matrices, plots them in a grid layout.\n",
    "    V should have shape (K,M,N) where V[k] is a matrix of shape (M,N).\n",
    "    The default cmap is \"bwr\" (blue-white-red) but can also be \"gray\".\n",
    "    \"\"\"\n",
    "    if isinstance(V, torch.Tensor):\n",
    "        V = V.detach().numpy()\n",
    "    assert V.ndim == 3, \"Expected V to have 3 dimensions, not %d\" % V.ndim\n",
    "    k, m, n = V.shape\n",
    "    ncol = 8                                     # At most 8 columns\n",
    "    nrow = min(4, (k + ncol - 1) // ncol)        # At most 4 rows\n",
    "    V = V[:nrow*ncol]                            # Focus on just the matrices we'll actually plot\n",
    "    figsize = (2*ncol, max(1, 2*nrow*(m/n)))     # Guess a good figure shape based on ncol, nrow\n",
    "    fig, axes = plt.subplots(nrow, ncol, sharex=True, sharey=True, figsize=figsize)\n",
    "    vmax = np.percentile(np.abs(V), [99.9])      # Show the main range of values, between 0.1%-99.9%\n",
    "    for v, ax in zip(V, axes.flat):\n",
    "        img = ax.matshow(v, vmin=-vmax, vmax=vmax, cmap=plt.get_cmap(cmap))\n",
    "        ax.set_xticks([])\n",
    "        ax.set_yticks([])\n",
    "    for ax in axes.flat[len(V):]:\n",
    "        ax.set_axis_off()\n",
    "    fig.colorbar(img, cax=fig.add_axes([0.92, 0.25, 0.01, .5]))   # Add a colorbar on the right    "
   ]
  },
  {
   "cell_type": "markdown",
   "metadata": {
    "id": "jfga1V7ZMBNo"
   },
   "source": [
    "**Run the code below** to download the MNIST dataset (it will be used for Exercise 2)"
   ]
  },
  {
   "cell_type": "code",
   "execution_count": 19,
   "metadata": {
    "id": "Z6FsN2hTMBfI",
    "scrolled": true
   },
   "outputs": [
    {
     "name": "stdout",
     "output_type": "stream",
     "text": [
      "zsh:1: command not found: gdown\n",
      "zsh:1: command not found: gdown\n"
     ]
    }
   ],
   "source": [
    "!gdown 1_yjmmCXLBNzEdRfSGh6ZeA4CFebRljOm # mnist_train\n",
    "!gdown 1XDAKoydMQQpS2P2u04PpAShD4Bf6sMBj # mnist_test"
   ]
  },
  {
   "cell_type": "code",
   "execution_count": 3,
   "metadata": {},
   "outputs": [],
   "source": [
    "data1=np.load(\"mnist_train.npz\")\n",
    "data2=np.load(\"mnist_test.npz\")"
   ]
  },
  {
   "cell_type": "markdown",
   "metadata": {
    "id": "s_aH2kkELo69"
   },
   "source": [
    "<div style=\"border-bottom: 3px solid black; margin-bottom:5px\"></div>\n",
    "<div style=\"border-bottom: 3px solid black\"></div>\n",
    "\n",
    "# 1. Convolutional Neural Networks on Synthetic Data\n",
    "\n",
    "Exercise 1.1&ndash;1.4 ask you to generate a synthetic data set and to inspect how a 1D convolutional neural network learns \"pattern detectors\" on it. <u>Building a toy synthetic dataset is good practice when sanity-checking a model that you have never worked with</u>. It will be easy to plot all the features, targets, and predictions all at once.\n",
    "\n",
    "**Run the code cell below** to define a function that will be able to plot your synthetic training set."
   ]
  },
  {
   "cell_type": "code",
   "execution_count": 4,
   "metadata": {
    "id": "xsfKuyFzLo6_"
   },
   "outputs": [],
   "source": [
    "def plot_named_tensors(tensor_dict):\n",
    "    \"\"\"\n",
    "    Given a dict of {name: tensor} pairs, plots the tensors side-by-side in a common\n",
    "    color scale. The name of each tensor is shown above its plot.\n",
    "    \"\"\"\n",
    "    n = len(tensor_dict)\n",
    "    vmax = max(v.abs().max() for v in tensor_dict.values())\n",
    "    figsize = (2*n, 6)\n",
    "    fig, axes = plt.subplots(1, n, figsize=figsize,  constrained_layout=True, squeeze=True)\n",
    "    axes = axes.flat if isinstance(axes, np.ndarray) else (axes,)\n",
    "    for (name, v), ax in zip(tensor_dict.items(), axes):\n",
    "        v = torch.squeeze(v.detach())   # Automatically convert (N,1,D) to (N,D)\n",
    "        if v.ndim == 1:\n",
    "            v = v.view(-1, 1)  # Automatically convert (N,) to (N,1)\n",
    "        assert v.ndim == 2, \"couldn't turn tensors[%d] with shape %s into 2D\" % (i, v.shape)\n",
    "        img = ax.matshow(v, vmin=-vmax, vmax=vmax, cmap=plt.get_cmap('bwr'))\n",
    "        ax.set_xticks([])\n",
    "        ax.set_yticks([])\n",
    "        ax.set_title(name)\n",
    "    fig.colorbar(img, cax=fig.add_axes([0.985, 0.25, 0.03, .5]))   # Add a colorbar on the right    "
   ]
  },
  {
   "cell_type": "markdown",
   "metadata": {
    "id": "Hq0rBSRpLo7A"
   },
   "source": [
    "## Exercise 1.1 &ndash; Build a synthetic 1D data set\n",
    "\n",
    "Start by building a synthetic training set $\\{(\\mathbf{x}_i, y_i)\\}_{i=1}^N$, where the goal is to \"detect pattern $[0,1,0]$ in the input\". \n",
    " * Each input $\\mathbf{x}_i \\in \\mathbb{R}^{20}$ represents a single-channel 1-dimensional 'image' of width $W=20$ having values from $\\{-1, -\\frac{1}{2}, 0, \\frac{1}{2}, 1\\}$. This means that each input is a vector of 20 elements that can only contain -1, -0.5, 0, 0.5, or 1 as possible values.\n",
    " * Each target $y_i \\in \\{0, 1\\}$ represents a class label, with $y_i=1$ if the subsequence $[0,1,0]$ appears somewhere in $\\mathbf{x}_i$.\n",
    " * The dataset should have $N=75$ items. \n",
    "\n",
    "In order to apply [**torch.nn.Conv1d**](https://pytorch.org/docs/stable/nn.html#torch.nn.Conv1d) module to the inputs, you'll need to represent them in a single tensor having \"$(N,C,W)$ format\", which here means $\\mathbf{X} \\in \\mathbb{R}^{75 \\times 1 \\times 20}$. Likewise you'll need the targets to have shape $\\mathbf{y} \\in \\mathbb{R}^{75 \\times 1}$.  \n",
    "\n",
    "Specific steps to build $\\mathbf{X}$ and $\\mathbf{y}$, that you will have to implement in Python:\n",
    "1. Create $\\mathbf{X}$ and $\\mathbf{y}$ as torch tensors full of zeros.\n",
    "2. For each row $i=0,\\ldots,N-1$:\n",
    "   1. Sample a random integer $\\text{size} \\in \\{1,2\\}$, _i.e._ the size of the subrange of pixels that will be assigned. You can use here [**np.random.randint**](https://numpy.org/doc/stable/reference/random/generated/numpy.random.randint.html). Note that the *randint(a,b)* returns an integer strictly less than *b*.\n",
    "   2. Sample a random integer $\\text{start} \\in \\{0,\\ldots,W-\\text{size}-1\\}$, _i.e._ the offset from the start of the image.\n",
    "   3. Sample a random choice $\\text{value} \\in \\{-1, -\\frac{1}{2}, \\frac{1}{2}, 1\\}$, _i.e._ the value to fill for the subrange. You can use here [**np.random.choice**](https://numpy.org/doc/stable/reference/random/generated/numpy.random.choice.html).\n",
    "   4. Assign a stretch of features $X[i,0, \\text{start}:\\text{start}+\\text{size}] = \\text{value}$, which will either be size 1 or 2. Basically, if the size is 1 we are going to replace a single value (i.e., if we sample 0.5, the current input vector will be something like [0,0,...,0,0.5,0,...0,0]). If the size is 2, we append 2 times the same value in consecutive indexes (i.e., if we sample 0.5, we will have $[0,..., 0, 0.5, 0.5, 0, ...,0]$ in the current input vector.\n",
    "   5. Assign target $y[i]$ to be 1 if both $\\text{size}=1$ and $\\text{value} = +1$, _i.e._ if $X[i,0,:]$ has a single \"+1\" pixel somewhere in it.\n",
    "\n",
    "**Complete the starter code below** by completing the for loop. <span style=\"color:red\">If PyTorch complains about not being able to convert *numpy.int32* or *numpy.bool_* to *torch.FloatTensor* you may need to explicitly convert the value to float using *float(value)*.</span>"
   ]
  },
  {
   "cell_type": "code",
   "execution_count": 5,
   "metadata": {
    "id": "OAzXk8MqLo7C"
   },
   "outputs": [],
   "source": [
    "np.random.seed(0)  # For reproducibility\n",
    "\n",
    "N = 75  # N = number of training cases\n",
    "C = 1   # C = number of channels (just 1 in our case)\n",
    "W = 20  # W = width of the 1-dimensional input image\n",
    "\n",
    "# We create feature tensor X in \"(N,C,W) format\" (the shape) so that it can\n",
    "# be used directly as input to PyTorch's Conv1D module.\n",
    "X = torch.zeros((N, C, W))   # Start with zeros. You need to assign some of these feature values!\n",
    "y = torch.zeros((N, 1))      # Start with zeros. You need to assign some of these target values!\n",
    "\n",
    "for i in range(N):\n",
    "    # Your code for initializing X and y here. Aim for 5-7 lines.\n",
    "    size = np.random.randint(low = 1,high = 3)\n",
    "    start = np.random.randint(0,W-size)\n",
    "    value = np.random.choice([-1, -1/2, 1/2, 1])\n",
    "    X[i,0,start:start+size] = value\n",
    "    y[i] = (size == 1) & (value == 1)*1"
   ]
  },
  {
   "cell_type": "markdown",
   "metadata": {
    "id": "fbJG-_t7Lo7E"
   },
   "source": [
    "**Check your answer** by running the code cell below. It will plot the entire training set as a heatmap, where blue indicates negative values and red indicates positive values. If you initialized your training set correctly (and kept `np.random.seed(0)` above) you should see exactly this training set:\n"
   ]
  },
  {
   "cell_type": "markdown",
   "metadata": {
    "id": "64M6_MpArqg-"
   },
   "source": [
    "![image.png](data:image/png;base64,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)"
   ]
  },
  {
   "cell_type": "markdown",
   "metadata": {
    "id": "hS__AXCJrrlF"
   },
   "source": [
    "Here we have $N=75$ rows and $W=20$ columns shown for the $\\mathbf{X}$ tensor. Notice that the red dots in the $\\mathbf{y}$ vector correspond to the $y_i=1$ for which there is exactly a 1-pixel red dot (a $+1$) in the corresponding input image."
   ]
  },
  {
   "cell_type": "code",
   "execution_count": 6,
   "metadata": {
    "id": "P6GoKfZXLo7G",
    "scrolled": true
   },
   "outputs": [
    {
     "data": {
      "image/png": "[encoded data removed]",
      "text/plain": [
       "<Figure size 288x432 with 3 Axes>"
      ]
     },
     "metadata": {
      "needs_background": "light"
     },
     "output_type": "display_data"
    }
   ],
   "source": [
    "plot_named_tensors({'X': X, 'y': y})"
   ]
  },
  {
   "cell_type": "markdown",
   "metadata": {
    "id": "JzgAjpKCLo7I"
   },
   "source": [
    "## Exercise 1.2 &ndash; Define a ConvNet architecture suitable for classifing your synthetic data\n",
    "\n",
    "\n",
    "You are asked to define a 1D convolutional neural network with the following feed-forward architecture built from the [PyTorch modules](https://pytorch.org/docs/stable/nn.html) mentioned. The architecture should transform an input tensor $X \\in \\mathbb{R}^{N \\times C \\times W}$ into a vector of scalar activations $\\mathbf{a} \\in \\mathbb{R}^{N \\times 1}$. "
   ]
  },
  {
   "cell_type": "markdown",
   "metadata": {
    "id": "fmtulYQSr9vh"
   },
   "source": [
    "![conv1d_architecture.png](data:image/png;base64,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)"
   ]
  },
  {
   "cell_type": "markdown",
   "metadata": {
    "id": "jL5E66EZr92w"
   },
   "source": [
    "Comments on the architecture:\n",
    "* The *convolutional* layer is depicted as having exactly enough padding (implicitly zero) to ensure that the output feature maps have the same spatial length ($W=20$) as the input vector had. Notice that if you were to increase the filter size by 2, you need to increase the padding by 1 (padding appears on both ends) to keep the output of convolution the same length as before. See the documentation for the Conv1d module.\n",
    "* The *max pooling* layer is being used here to take the maximum value across each of the 3 feature maps shown. Since we want to take the max over the entire spatial extent of the feature map, we use a large *kernel_size*.\n",
    "* The 1-dimensional convolution and pooling operations require *spatial* data in $(N,C,W)$ format (where $W$ is the spatial dimension), so that the operators know how long the spatial dimension is. However the *linear* (fully-connected) layer doesn't know how to deal with spatial data, so the *flatten* operation simply reshapes the tensor from shape $(N,C,W)$ to shape $(N,D)$ where $D=C \\times W$.\n",
    "* Even though we'll use this architecture for binary classification, we do not add an extra *sigmoid* operation directly to the output. This is done for same reasons as for the multi-class PyTorch neural network from Lab 3. After the model is defined, we can still use it to predict binary class probabilities $\\hat{y}_i \\in [0,1]$ by feeding features $X$ through the model and then feeding the resulting activations $\\mathbf{a}$ through a sigmoid so that class predictions are $\\mathbf{\\hat{y}} = \\sigma(\\mathbf{a})$. \n",
    "\n",
    "**Add a few lines of code** to define a PyTorch model with the above architecture."
   ]
  },
  {
   "cell_type": "code",
   "execution_count": 7,
   "metadata": {
    "id": "QbEdUmLfLo7K"
   },
   "outputs": [],
   "source": [
    "torch.manual_seed(0) # Ensure model weights initialized with same random numbers\n",
    "\n",
    "num_filter = 3   # The number of filters to learn\n",
    "filter_size = 5  # The size of each filter\n",
    "\n",
    "model = torch.nn.Sequential(\n",
    "    # Your code for defining the model architecture here. Aim for 5-9 lines.\n",
    "    torch.nn.Conv1d(in_channels=C, out_channels=num_filter, kernel_size=filter_size, padding=2), # Ensure padding to keep spatial length\n",
    "    torch.nn.ReLU(),\n",
    "    torch.nn.MaxPool1d(kernel_size=W),  # Max pooling over the entire spatial extent\n",
    "    torch.nn.Flatten(),  # Flatten the spatial dimension\n",
    "    torch.nn.Linear(num_filter, 1)  # Linear layer for binary classification\n",
    ")"
   ]
  },
  {
   "cell_type": "code",
   "execution_count": 8,
   "metadata": {
    "id": "rman7-emLo7L"
   },
   "outputs": [
    {
     "name": "stdout",
     "output_type": "stream",
     "text": [
      "Looks OK!\n"
     ]
    }
   ],
   "source": [
    "assert len(model) == 5, \"Should be 5 layers!\"\n",
    "assert isinstance(model[0], torch.nn.Conv1d), \"layer 0 should be Conv1d\"\n",
    "assert model[0].in_channels == C, \"layer 0 should expect C input channel\"\n",
    "assert model[0].out_channels == num_filter, \"layer 0 should expect %d output channels\" % num_filter\n",
    "assert model[0].kernel_size[0] == filter_size, \"layer 0 filter size should be %d\" % filter_size\n",
    "assert model[0].padding[0] == filter_size//2\n",
    "assert isinstance(model[1], torch.nn.ReLU), \"layer 1 should be ReLU\"\n",
    "assert isinstance(model[2], torch.nn.MaxPool1d), \"layer 2 should be MaxPool1d\"\n",
    "assert model[2].kernel_size == W, \"layer 2 should pool over the entire input feature map\"\n",
    "assert isinstance(model[3], torch.nn.Flatten), \"layer 3 should by Flatten\"\n",
    "assert isinstance(model[4], torch.nn.Linear), \"layer 4 should be Linear\"\n",
    "assert model[4].in_features == num_filter, \"layer 4 should have accept %d inputs\" % num_filter\n",
    "assert model[4].out_features == 1, \"layer 4 should have only 1 output\"\n",
    "print(\"Looks OK!\")"
   ]
  },
  {
   "cell_type": "markdown",
   "metadata": {
    "id": "QA8sjbVsLo7N"
   },
   "source": [
    "**Plot your model's initial predictions** (i.e. *before* training) by running the code cell below. Notice that the untrained model predicts arbitrary class probabilies that all look similar. This is because the initial weights of the Conv1d and Linear layers are small random values, so the output is only weakly sensitive to the input."
   ]
  },
  {
   "cell_type": "code",
   "execution_count": 9,
   "metadata": {
    "id": "lK2tlUj3Lo7O"
   },
   "outputs": [
    {
     "name": "stdout",
     "output_type": "stream",
     "text": [
      "tensor([[0.611],\n",
      "        [0.575],\n",
      "        [0.604],\n",
      "        [0.576],\n",
      "        [0.597]], grad_fn=<SliceBackward>)\n"
     ]
    },
    {
     "data": {
      "image/png": "[encoded data removed]",
      "text/plain": [
       "<Figure size 432x432 with 4 Axes>"
      ]
     },
     "metadata": {
      "needs_background": "light"
     },
     "output_type": "display_data"
    }
   ],
   "source": [
    "import warnings\n",
    "warnings.filterwarnings('ignore')\n",
    "\n",
    "y_pred = torch.sigmoid(model(X))   # Turn activations into probabilities by feeding through sigmoid\n",
    "print(y_pred[:5])                  # Print the first few probabilities\n",
    "plot_named_tensors({'X': X, '$\\hat{y}$': y_pred, 'y': y})"
   ]
  },
  {
   "cell_type": "markdown",
   "metadata": {
    "id": "OQgGoX_4Lo7P"
   },
   "source": [
    "## Exercise 1.3 &ndash; Train the ConvNet on your synthetic data\n",
    "\n",
    "Here you should train the ConvNet architecture from Exercise 1.2, much as you trained a PyTorch neural network in the Lab 3.\n",
    "\n",
    "First, **run the code cell below** to make a copy of the untrained model from Exercise 1.2. This will make it easy to re-run the training code cell multiple times, each time starting from an untrained model (rather than continuing to train the same model!)."
   ]
  },
  {
   "cell_type": "code",
   "execution_count": 10,
   "metadata": {
    "id": "Vs2ScFHjLo7Q"
   },
   "outputs": [],
   "source": [
    "untrained_model = copy.deepcopy(model)"
   ]
  },
  {
   "cell_type": "markdown",
   "metadata": {
    "id": "uczPKuK1Lo7Q"
   },
   "source": [
    "Next you'll need to define a loss function and implement a standard PyTorch training loop to train a copy of the untrained model. The PyTorch training loop for a ConvNet is identical to that of a neural network, so use Lab 3 as a guide.\n",
    "\n",
    "However, for this exercise use the following configuration:\n",
    "* *No mini-batches:* Unlike Lab 3, for this exercise do not use mini-batches. Instead feed the whole $X$ matrix through your model, like `model(X)` to get $N=75$ outputs. In other words, your training loop doesn't need an inner \"mini-batch\" loop.\n",
    "* *Loss function:* Use the \"binary cross entropy\" loss that directly accepts activations (i.e, the output of the model before applying the sigmoid. This output is called 'logits'). In PyTorch this is implemented by the **[torch.nn.BCEWithLogitsLoss](https://pytorch.org/docs/stable/nn.html#torch.nn.BCEWithLogitsLoss)** module. This is similar to the *CrossEntropyLoss* in Lab 3, except it's specialized to handle a single binary output.\n",
    "* *Optimizer:* This is the learning algorithm. Use the **[torch.optim.SGD](https://pytorch.org/docs/stable/optim.html#torch.optim.SGD)** optimizer with learning rate $0.05$, momentum $0.9$, and weight decay (weight penalty) of $0.001$.\n",
    "\n",
    "Your training code should also print the current training loss for the first epoch and every 50 epochs after. For example, if you computed your loss in variable `loss_value` then something like this would work:\n",
    "```python\n",
    "for epoch in range(1, num_epoch+1):\n",
    "    \n",
    "    ... your code to apply a step of gradient descent here\n",
    "    \n",
    "    if epoch == 1 or epoch % 50 == 0:\n",
    "        print(\"Epoch %d had training loss %.4f\" % (epoch, loss_value.item()))\n",
    "```\n",
    "where the `.item()` is a method that converts a scalar-valued PyTorch tensor into a standard Python value, like a *float*, so that it can be more easily formatted as part of the string.\n",
    "\n",
    "The output of your training loop should look exactly like this:\n",
    "```\n",
    "Epoch 1 had training loss 0.8562\n",
    "Epoch 50 had training loss 0.3519\n",
    "Epoch 100 had training loss 0.3281\n",
    "Epoch 150 had training loss 0.3212\n",
    "...\n",
    "```\n",
    "However, the loss should not go to zero for the current model architecture. You'll fix that shortly.\n",
    "\n",
    "**Complete the code below**"
   ]
  },
  {
   "cell_type": "code",
   "execution_count": 11,
   "metadata": {
    "id": "_ri3R81ILo7R",
    "scrolled": true
   },
   "outputs": [
    {
     "name": "stdout",
     "output_type": "stream",
     "text": [
      "Epoch 1 had training loss 0.8562\n",
      "Epoch 50 had training loss 0.3519\n",
      "Epoch 100 had training loss 0.3281\n",
      "Epoch 150 had training loss 0.3212\n",
      "Epoch 200 had training loss 0.3183\n",
      "Epoch 250 had training loss 0.3165\n",
      "Epoch 300 had training loss 0.3150\n",
      "Epoch 350 had training loss 0.3137\n",
      "Epoch 400 had training loss 0.3128\n",
      "Epoch 450 had training loss 0.3119\n",
      "Epoch 500 had training loss 0.3113\n"
     ]
    }
   ],
   "source": [
    "# Start from a copy of the untrained model, so that when we re-run this code\n",
    "# cell it always resets to the beginning.\n",
    "model = copy.deepcopy(untrained_model)\n",
    "\n",
    "# The number of times to evaluate the full training data (in this case, number of gradient steps)\n",
    "num_epoch = 500\n",
    "\n",
    "# Your code for defining loss, optimizer, and training loop here. Aim for 10-12 lines.\n",
    "\n",
    "\n",
    "criterion = torch.nn.BCEWithLogitsLoss()  # Binary Cross Entropy Loss\n",
    "optimizer = torch.optim.SGD(model.parameters(), lr=0.05, momentum=0.9, weight_decay=0.001)\n",
    "\n",
    "# Training loop\n",
    "for epoch in range(1, num_epoch + 1):\n",
    "    # Forward pass\n",
    "    outputs = model(X)\n",
    "    \n",
    "    # Compute the loss\n",
    "    loss = criterion(outputs, y)\n",
    "    \n",
    "    # Backpropagation and optimization\n",
    "    optimizer.zero_grad()\n",
    "    loss.backward()\n",
    "    optimizer.step()\n",
    "    \n",
    "    # Print training loss for the first epoch and every 50 epochs\n",
    "    if epoch == 1 or epoch % 50 == 0:\n",
    "        print(\"Epoch %d had training loss %.4f\" % (epoch, loss.item()))\n"
   ]
  },
  {
   "cell_type": "markdown",
   "metadata": {
    "id": "t60GOGfxLo7S"
   },
   "source": [
    "**Plot your trained model's predictions** in the code cell below. You should see that the prediction vector has an interesting pattern now (unlike the initial model), but that the predictions still do not quite match the targets."
   ]
  },
  {
   "cell_type": "code",
   "execution_count": 12,
   "metadata": {
    "id": "SP_VUe83Lo7T",
    "scrolled": true
   },
   "outputs": [
    {
     "name": "stdout",
     "output_type": "stream",
     "text": [
      "tensor([[0.018],\n",
      "        [0.276],\n",
      "        [0.005],\n",
      "        [0.208],\n",
      "        [0.316]], grad_fn=<SliceBackward>)\n"
     ]
    },
    {
     "data": {
      "image/png": "[encoded data removed]",
      "text/plain": [
       "<Figure size 432x432 with 4 Axes>"
      ]
     },
     "metadata": {
      "needs_background": "light"
     },
     "output_type": "display_data"
    }
   ],
   "source": [
    "# Your code here. See Exercise 1.2.\n",
    "import warnings\n",
    "warnings.filterwarnings('ignore')\n",
    "\n",
    "y_pred = torch.sigmoid(model(X))   # Turn activations into probabilities by feeding through sigmoid\n",
    "print(y_pred[:5])                  # Print the first few probabilities\n",
    "plot_named_tensors({'X': X, '$\\hat{y}$': y_pred, 'y': y})"
   ]
  },
  {
   "cell_type": "markdown",
   "metadata": {
    "id": "EMjqaHKILo7T"
   },
   "source": [
    "The mismatch between predictions and targets is why the loss did not get close to zero, despite the fact that your ConvNet architecture can, in principle, learn a perfect classifier.\n",
    "\n",
    "If your model architecture was able to get the training loss to zero, the predictions would look more like this:\n",
    "\n"
   ]
  },
  {
   "cell_type": "markdown",
   "metadata": {
    "id": "8lGWcnesNoQu"
   },
   "source": [
    "![synthetic_predictions.png](data:image/png;base64,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)\n",
    "\n"
   ]
  },
  {
   "cell_type": "markdown",
   "metadata": {
    "id": "F15GipZ0Npoi"
   },
   "source": [
    "<span style=\"color:red\">Currently,  your ConvNet training got stuck in a local minimum!</span>\n",
    "To give your ConvNet architecture a better chance at \"getting lucky\" and finding a path from random weights to useful weights, we need to **increase the number of filters from 3 to 4**. With an extra filter, your ConvNet is now \"lucky\" enough to find at least one filter that detects a $0,1,0$ pattern.\n",
    "\n",
    "**Copy and paste the relevant parts of the previous codes and run it after changing the number of filters only**"
   ]
  },
  {
   "cell_type": "code",
   "execution_count": 13,
   "metadata": {
    "id": "axurM5CKPSw8",
    "scrolled": true
   },
   "outputs": [
    {
     "name": "stdout",
     "output_type": "stream",
     "text": [
      "Epoch 1 had training loss 0.5462\n",
      "Epoch 50 had training loss 0.3510\n",
      "Epoch 100 had training loss 0.2914\n",
      "Epoch 150 had training loss 0.1697\n",
      "Epoch 200 had training loss 0.0635\n",
      "Epoch 250 had training loss 0.0318\n",
      "Epoch 300 had training loss 0.0205\n",
      "Epoch 350 had training loss 0.0153\n",
      "Epoch 400 had training loss 0.0125\n",
      "Epoch 450 had training loss 0.0107\n",
      "Epoch 500 had training loss 0.0095\n"
     ]
    }
   ],
   "source": [
    "torch.manual_seed(0) # Ensure model weights initialized with same random numbers\n",
    "\n",
    "num_filter = 4   # The number of filters to learn\n",
    "filter_size = 5  # The size of each filter\n",
    "\n",
    "model = torch.nn.Sequential(\n",
    "    # Your code for defining the model architecture here. Aim for 5-9 lines.\n",
    "    torch.nn.Conv1d(in_channels=C, out_channels=num_filter, kernel_size=filter_size, padding=2),  # Ensure padding to keep spatial length\n",
    "    torch.nn.ReLU(),\n",
    "    torch.nn.MaxPool1d(kernel_size=W, padding=0),  # Max pooling over the entire spatial extent\n",
    "    torch.nn.Flatten(),  # Flatten the spatial dimension\n",
    "    torch.nn.Linear(num_filter, 1)  # Linear layer for binary classification\n",
    "\n",
    ")\n",
    "\n",
    "# The number of times to evaluate the full training data (in this case, number of gradient steps)\n",
    "num_epoch = 500\n",
    "\n",
    "# Your code for defining loss, optimizer, and training loop here. Aim for 10-12 lines.\n",
    "\n",
    "criterion = torch.nn.BCEWithLogitsLoss()  # Binary Cross Entropy Loss\n",
    "optimizer = torch.optim.SGD(model.parameters(), lr=0.05, momentum=0.9, weight_decay=0.001)\n",
    "\n",
    "# Training loop\n",
    "for epoch in range(1, num_epoch + 1):\n",
    "    # Forward pass\n",
    "    outputs = model(X)\n",
    "    \n",
    "    # Compute the loss\n",
    "    loss = criterion(outputs, y)\n",
    "    \n",
    "    # Backpropagation and optimization\n",
    "    optimizer.zero_grad()\n",
    "    loss.backward()\n",
    "    optimizer.step()\n",
    "    \n",
    "    # Print training loss for the first epoch and every 50 epochs\n",
    "    if epoch == 1 or epoch % 50 == 0:\n",
    "        print(\"Epoch %d had training loss %.4f\" % (epoch, loss.item()))"
   ]
  },
  {
   "cell_type": "markdown",
   "metadata": {
    "id": "DsR8hKukQDVp"
   },
   "source": [
    "You should get the following output:\n",
    "\n",
    "\n",
    "```\n",
    "Epoch 1 had training loss 0.5462\n",
    "Epoch 50 had training loss 0.3510\n",
    "Epoch 100 had training loss 0.2914\n",
    "Epoch 150 had training loss 0.1697\n",
    "Epoch 200 had training loss 0.0635\n",
    "Epoch 250 had training loss 0.0318\n",
    "Epoch 300 had training loss 0.0205\n",
    "Epoch 350 had training loss 0.0153\n",
    "Epoch 400 had training loss 0.0125\n",
    "Epoch 450 had training loss 0.0107\n",
    "Epoch 500 had training loss 0.0095\n",
    "```\n",
    "\n",
    "\n",
    "\n",
    "\n"
   ]
  },
  {
   "cell_type": "markdown",
   "metadata": {
    "id": "sUkjbac6Lo7U"
   },
   "source": [
    "## Exercise 1.4 Inspect the filters and weights of your ConvNet\n",
    "\n",
    "Here you should visualize both the filter weights and the linear (fully-connected) weights. Use the *plot_matrix_grid* function. If you managed to get your training loss to be small (close to zero) then at least one of your filters should look like this:\n",
    "\n"
   ]
  },
  {
   "cell_type": "markdown",
   "metadata": {
    "id": "-8ybV17JOWNs"
   },
   "source": [
    "![synthetic_filter_example.png](data:image/png;base64,iVBORw0KGgoAAAANSUhEUgAAAHAAAAAqCAYAAABr9d/aAAAABHNCSVQICAgIfAhkiAAAAAFzUkdCAK7OHOkAAAAEZ0FNQQAAsY8L/GEFAAAACXBIWXMAABJ0AAASdAHeZh94AAAAOHRFWHRTb2Z0d2FyZQBtYXRwbG90bGliIHZlcnNpb24zLjEuMSwgaHR0cDovL21hdHBsb3RsaWIub3JnLxBmFxkAAAD4SURBVHhe7dorjsJgFEDhn7HY1k3aWQODZz3gWQUeFlTbWURhXDWWh7gO0+Q2hJOcz/RefZo/6WNxfyrC+oqroAwIZ0A4A8IZEM6AcAaEMyDcpAf5qqrKT9PElnP+n++eaca/mPLO9W9Mec33Laa84XIp4zjG9mpSwPVqVfquiy1nt1/GlHc8LWLK223neyF1PFxjyltvNqXv+9heeYTCGRDOgHAGhDMgnAHhDAhnQDgDwhkQzoBwBoQzIJwB4QwIZ0A4A8JN+iJf13Vp2zY2vdMwDPlfKvS5PELhDAhnQDgDwhkQzoBwBoQzIJwB4QwIZ0A4A6KV8gB/GzI81/yb2QAAAABJRU5ErkJggg==)"
   ]
  },
  {
   "cell_type": "markdown",
   "metadata": {
    "id": "IR0BBhTtOWf0"
   },
   "source": [
    "where red means positive and blue means negative. When this filter is convolved with a sequence containing pattern $\\ldots,0,1,0,\\ldots$ it will \"activate\" and have a large output at the position centered on the $1$. That activation then gets selected by the max pooling operation, and is then used to activate the output of the network, giving correct classification.\n",
    "\n",
    "**Write a few lines of plotting code** to visualize the weights of both layers. Do you see a correspondence between the filter that looks \"right\" and the positive weight(s) in the linear layer?"
   ]
  },
  {
   "cell_type": "code",
   "execution_count": 14,
   "metadata": {
    "id": "QT07DrUyLo7V"
   },
   "outputs": [
    {
     "name": "stdout",
     "output_type": "stream",
     "text": [
      "torch.Size([4, 1, 5])\n",
      "torch.Size([1, 4])\n"
     ]
    },
    {
     "data": {
      "image/png": "[encoded data removed]",
      "text/plain": [
       "<Figure size 1152x72 with 9 Axes>"
      ]
     },
     "metadata": {
      "needs_background": "light"
     },
     "output_type": "display_data"
    },
    {
     "data": {
      "image/png": "[encoded data removed]",
      "text/plain": [
       "<Figure size 1152x72 with 9 Axes>"
      ]
     },
     "metadata": {
      "needs_background": "light"
     },
     "output_type": "display_data"
    }
   ],
   "source": [
    "W1, b1, W2, b2 = model.parameters()\n",
    "print(W1.shape)  # The tensor of 4 filters, each with 1 channel and kernel size 5\n",
    "print(W2.shape)  # The matrix of linear (fully-connected) weights that combine the filter responses\n",
    "\n",
    "# Your plotting code here. Use plot_matrix_grid. Aim for 2-4 lines of code.\n",
    "plot_matrix_grid(W1)\n",
    "plot_matrix_grid(W2.reshape(-1,1,4))"
   ]
  },
  {
   "cell_type": "markdown",
   "metadata": {
    "id": "PwWyEMi_Lo7W"
   },
   "source": [
    "<div style=\"border-bottom: 3px solid black; margin-bottom:5px\"></div>\n",
    "<div style=\"border-bottom: 3px solid black\"></div>\n",
    "\n",
    "# 2. Digit classification with Convolutional Neural Networks\n",
    "\n",
    "Exercise 2.1&ndash;2.2 expand on the previous lab, this time asking you to train a convolutional neural network on the MNIST data set rather than a fully-connected neural network."
   ]
  },
  {
   "cell_type": "markdown",
   "metadata": {
    "id": "I-tbD03YLo7X"
   },
   "source": [
    "## Exercise 2.1 Load and preprocess MNIST\n",
    "\n",
    "**Implement the *load_mnist_for_convnet* function** below. Rather than normalizing the features with scikit-learn, perform a simple normalization by scaling the pixel intensities from range $[0,255]$ down to $[0,1]$. This will be good enough. Remember to reshape the input to have a tensor with dimensionality $(N,1,28,28)$."
   ]
  },
  {
   "cell_type": "code",
   "execution_count": 15,
   "metadata": {
    "id": "ybUQQMm2Lo7X",
    "scrolled": false
   },
   "outputs": [],
   "source": [
    "def load_mnist_for_convnet(filename):\n",
    "    \"\"\"\n",
    "    Loads the MNIST data from a Numpy NPZ file and returns two PyTorch tensors:\n",
    "    X: a float tensor with shape (N,1,28,28) where N is the number of images in the file\n",
    "    y: an int64 tensor with shape (N,) containing the class targets for the images.\n",
    "    The pixels values are scaled to be in range [0,1] where 0 is black and 1 is white.\n",
    "    \"\"\"\n",
    "    # Your code here. Aim for 7-10 lines.\n",
    "    data = np.load(filename)\n",
    "    X = data['X'].astype(np.float32) / 255.0  # Scale the pixel values to [0,1]\n",
    "    y = data['y'].astype(np.int64)\n",
    "    X = torch.from_numpy(X)\n",
    "    y = torch.from_numpy(y)\n",
    "    X = X.view(-1, 1, 28, 28)  # Reshape to (N, 1, 28, 28)\n",
    "    return X, y\n",
    "\n",
    "\n",
    "X_trn, y_trn = load_mnist_for_convnet(\"mnist_train.npz\")\n",
    "X_tst, y_tst = load_mnist_for_convnet(\"mnist_test.npz\")\n"
   ]
  },
  {
   "cell_type": "markdown",
   "metadata": {
    "id": "aq6fZDfHLo7Y"
   },
   "source": [
    "**Check your answer** by running the code cell below."
   ]
  },
  {
   "cell_type": "code",
   "execution_count": 16,
   "metadata": {
    "id": "med4OHCMLo7Y",
    "scrolled": true
   },
   "outputs": [
    {
     "name": "stdout",
     "output_type": "stream",
     "text": [
      "Looks good!\n"
     ]
    }
   ],
   "source": [
    "assert isinstance(X_trn, torch.FloatTensor), \"Features should be float32!\"\n",
    "assert isinstance(y_trn, torch.LongTensor), \"Targets should be int64 or long!\"\n",
    "assert X_trn.shape == (60000, 1, 28, 28), \"X_trn has wrong shape\"\n",
    "assert y_trn.shape == (60000,), \"y_trn has wrong shape\"\n",
    "assert X_tst.shape == (10000, 1, 28, 28), \"X_tst has wrong shape\"\n",
    "assert y_tst.shape == (10000,), \"y_tst has wrong shape\"\n",
    "assert X_trn.min() == 0 and X_trn.max() == 1, \"Features don't seem to be scaled right!\"\n",
    "print(\"Looks good!\")"
   ]
  },
  {
   "cell_type": "markdown",
   "metadata": {
    "id": "R_VcWolELo7Z"
   },
   "source": [
    "<div style=\"border-bottom: 3px solid black; margin-bottom:5px\"></div>\n",
    "\n",
    "## Exericise 2.2 Train a Convolutional Neural Network on MNIST\n",
    "\n",
    "You are asked to train a 2D ConvNet to classify MNIST digits. You'll need the *Conv2d* and *MaxPool2d* modules as described in the [PyTorch modules documentation](https://pytorch.org/docs/stable/nn.html). Your architecture will be similar to Part 1 of this lab, except rather than pooling over the entire input signal you will pool only over small 2x2 regions, preserving more spatial information for the subsequent linear (fully-connected) layer to use in classification.\n",
    "\n",
    "**Write a few lines of code** to define a 2D ConvNet with the following feed-forward architecture:\n",
    "1. Convolution with 8 filters each of size 5x5 and enough padding to ensure that each of the resulting feature maps has spatial dimensions 28x28, just like the input.\n",
    "2. Rectified linear transformation (ReLU).\n",
    "3. Max pooling with kernel size 2x2 and a non-overlapping stride (i.e. stride same as kernel size).\n",
    "4. Flatten the spatial information\n",
    "5. Linear (fully-connected) layer to use all the outputs of the max pooling layer as features to make a prediction.\n",
    "\n",
    "the output. As done before for the sigmoid, do not add the softmax here (because the categorical cross-entropy lossrequires 'logits' in input). \n",
    "\n",
    "Hint: the trickiest part is to correctly calculate the expected number of in_features for the linear layer. After the flattening operation, the number of inputs depends on the number of filters, original image size (28x28), and pool size (2x2). The number of output classes is 10."
   ]
  },
  {
   "cell_type": "markdown",
   "metadata": {
    "id": "qbzbwnPdudPU"
   },
   "source": [
    "**Complete the code below**"
   ]
  },
  {
   "cell_type": "code",
   "execution_count": 17,
   "metadata": {
    "id": "RfkJMHX8Lo7a"
   },
   "outputs": [],
   "source": [
    "torch.manual_seed(0) # Ensure model weights initialized with same random numbers\n",
    "\n",
    "# Your code here. Aim for 8-11 lines.\n",
    "\n",
    "model = torch.nn.Sequential(\n",
    "    torch.nn.Conv2d(1, 8, kernel_size=5, padding=2),  \n",
    "    torch.nn.ReLU(),  # ReLU activation\n",
    "    torch.nn.MaxPool2d(kernel_size=2, stride=2),  \n",
    "    torch.nn.Flatten(),  \n",
    "    torch.nn.Linear(8 * 14 * 14, 10) \n",
    ")\n"
   ]
  },
  {
   "cell_type": "markdown",
   "metadata": {
    "id": "ZduB4i1JLo7a"
   },
   "source": [
    "**Check your model architecture** by trying to feed some inputs through. If an error is raised, then something is mis-configured in your network. The most likely error is that you did not correctly calculate the expected number of *in_features* for the linear layer, leading to a \"size mismatch\" in the tensors."
   ]
  },
  {
   "cell_type": "code",
   "execution_count": 18,
   "metadata": {
    "id": "iadX5Zf6Lo7b"
   },
   "outputs": [],
   "source": [
    "y_pred = model(X_trn[:5])  # Check model architecture by trying to feed inputs through it.\n",
    "assert y_pred.shape == (5, 10), \"Expected a batch of 5 images to produce output of shape (5, 10)\""
   ]
  },
  {
   "cell_type": "markdown",
   "metadata": {
    "id": "oh2P4de1Lo7c"
   },
   "source": [
    "**Plot your initial model's predictions** on the first 30 training inputs by running the code cell below. Notice that once again all the predictions are pretty much the same, and are far from the targets."
   ]
  },
  {
   "cell_type": "code",
   "execution_count": 19,
   "metadata": {
    "colab": {
     "base_uri": "https://localhost:8080/",
     "height": 457
    },
    "executionInfo": {
     "elapsed": 540,
     "status": "ok",
     "timestamp": 1675652930068,
     "user": {
      "displayName": "Mirco Ravanelli",
      "userId": "06892056361698510975"
     },
     "user_tz": 300
    },
    "id": "Bn0A6RyWLo7d",
    "outputId": "5c2a6d90-5db0-4122-953c-51d2900a2653"
   },
   "outputs": [
    {
     "data": {
      "image/png": "[encoded data removed]",
      "text/plain": [
       "<Figure size 288x432 with 3 Axes>"
      ]
     },
     "metadata": {
      "needs_background": "light"
     },
     "output_type": "display_data"
    }
   ],
   "source": [
    "# Feed the model's predictions on 50 training cases through a row-wise softmax.\n",
    "y_pred = torch.softmax(model(X_trn[:50]), dim=1)\n",
    "\n",
    "# Convert the first 50 training targets from index format {0,...,9} to a 1-hot format,\n",
    "# for easier side-by-side comparison with the 10-dimensional output prediction.\n",
    "y_true = torch.zeros((50, 10))\n",
    "y_true[torch.arange(50), y_trn[:50]] = 1\n",
    "\n",
    "\n",
    "plot_named_tensors({'$\\hat{y}$': y_pred, '$y$': y_true})"
   ]
  },
  {
   "cell_type": "markdown",
   "metadata": {
    "id": "475VgjRNLo7e"
   },
   "source": [
    "**Inspect your initial model's filters** by plotting them with the *plot_matrix_grid* function. They should look random and have small values roughly in range $[-0.1, 0.1]$ (Only plot the first layer filter weights, not the linear layer weights.) As before, you can get the parameters with *model.parameters()*.\n"
   ]
  },
  {
   "cell_type": "code",
   "execution_count": 20,
   "metadata": {
    "colab": {
     "base_uri": "https://localhost:8080/",
     "height": 133
    },
    "executionInfo": {
     "elapsed": 476,
     "status": "ok",
     "timestamp": 1675652933625,
     "user": {
      "displayName": "Mirco Ravanelli",
      "userId": "06892056361698510975"
     },
     "user_tz": 300
    },
    "id": "obZmJ4vjLo7e",
    "outputId": "8dd86740-09f8-46c1-ca00-cac58efcf704"
   },
   "outputs": [
    {
     "data": {
      "image/png": "[encoded data removed]",
      "text/plain": [
       "<Figure size 1152x144 with 9 Axes>"
      ]
     },
     "metadata": {
      "needs_background": "light"
     },
     "output_type": "display_data"
    }
   ],
   "source": [
    "# Your plotting code here. Use plot_matrix_grid. Aim for 1-2 lines of code.\n",
    "W1, b1, W2, b2 = model.parameters()\n",
    "plot_matrix_grid(W1.reshape(-1,5,5))"
   ]
  },
  {
   "cell_type": "markdown",
   "metadata": {
    "id": "Vm6KTRAaLo7f"
   },
   "source": [
    "**Train your model** with the following configuration:\n",
    "* Use the *CrossEntropyLoss* (since this is multi-class classification, not binary)\n",
    "* Use the exact same optimizer configuration you used for Part 1 of this lab (learning rate $0.05$, etc).\n",
    "* Use mini-batch training like you did in Lab 3, with a batch size of $100$.\n",
    "* Train for 5 epochs (5 passes over the full training set)\n",
    "\n",
    "First, define the loss function and optimizer in a separate code cell below:"
   ]
  },
  {
   "cell_type": "code",
   "execution_count": 21,
   "metadata": {
    "id": "PrLN9x2JLo7f"
   },
   "outputs": [],
   "source": [
    "batch_size = 100\n",
    "num_epoch = 5\n",
    "\n",
    "# Your code to define loss function and optimizer here. Aim for 2 lines.\n",
    "optimizer = torch.optim.SGD(model.parameters(), lr=0.05, momentum=0.9, weight_decay=0.001)\n",
    "loss = torch.nn.CrossEntropyLoss()"
   ]
  },
  {
   "cell_type": "markdown",
   "metadata": {
    "id": "YzPPC4BCLo7g"
   },
   "source": [
    "Then, write your training loop in a separate code cell below, so that you can re-run this code cell to \"continue\" training with the same optimizer object, if you want to train your model longer.\n",
    "\n",
    "We recommend you add a print statement to report progress like this:\n",
    "```\n",
    "Epoch 1 final minibatch had loss 0.2452\n",
    "Epoch 2 final minibatch had loss 0.2077\n",
    "...\n",
    "```"
   ]
  },
  {
   "cell_type": "code",
   "execution_count": 22,
   "metadata": {
    "id": "INBI14ixLo7g"
   },
   "outputs": [
    {
     "name": "stdout",
     "output_type": "stream",
     "text": [
      "Epoch  1 final minibatch had loss 0.2442\n",
      "Epoch  2 final minibatch had loss 0.2068\n",
      "Epoch  3 final minibatch had loss 0.1968\n",
      "Epoch  4 final minibatch had loss 0.1904\n",
      "Epoch  5 final minibatch had loss 0.1884\n"
     ]
    }
   ],
   "source": [
    "# Your mini-batch training loop here. Aim for 9-12 lines.\n",
    "\n",
    "next_epoch = 1\n",
    "\n",
    "for epoch in range(next_epoch, next_epoch+num_epoch):\n",
    "\n",
    "    # Make an entire pass (an 'epoch') over the training data in batch_size chunks\n",
    "    for i in range(0, len(X_trn), batch_size):\n",
    "        X = X_trn[i:i+batch_size]     # Slice out a mini-batch of features\n",
    "        y = y_trn[i:i+batch_size]     # Slice out a mini-batch of targets\n",
    "\n",
    "        y_pred = model(X)                   # Make predictions (final-layer activations)\n",
    "        l = loss(y_pred, y)                 # Compute loss with respect to predictions\n",
    "\n",
    "        model.zero_grad()                   # Reset all gradient accumulators to zero (PyTorch thing)\n",
    "        l.backward()                        # Compute gradient of loss wrt all parameters (backprop!)\n",
    "        optimizer.step()                    # Use the gradients to take a step with SGD.\n",
    "\n",
    "    print(\"Epoch %2d final minibatch had loss %.4f\" % (epoch, l.item()))"
   ]
  },
  {
   "cell_type": "markdown",
   "metadata": {
    "id": "eQK9CcT0Lo7h"
   },
   "source": [
    "**Plot your trained model's predictions**. The predictions should look like before, now matching the targets better than before training. \n",
    "\n"
   ]
  },
  {
   "cell_type": "markdown",
   "metadata": {
    "id": "psToajh7Q1Er"
   },
   "source": [
    "![mnist_predictions.png](data:image/png;base64,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)"
   ]
  },
  {
   "cell_type": "code",
   "execution_count": 23,
   "metadata": {
    "id": "o3eQYzB0Lo7i"
   },
   "outputs": [
    {
     "data": {
      "image/png": "[encoded data removed]",
      "text/plain": [
       "<Figure size 288x432 with 3 Axes>"
      ]
     },
     "metadata": {
      "needs_background": "light"
     },
     "output_type": "display_data"
    }
   ],
   "source": [
    "# Your code here. Aim for 2-3 lines. Re-use the y_true matrix from the earlier code cell.\n",
    "y_pred = torch.softmax(model(X_trn[:50]), dim=1)\n",
    "plot_named_tensors({'$\\hat{y}$': y_pred, '$y$': y_true})"
   ]
  },
  {
   "cell_type": "markdown",
   "metadata": {
    "id": "Z1yA8NjjLo7i"
   },
   "source": [
    "If you only trained your ConvNet for 5 epochs total, you should be able to identify at least one training case that appears to be \"harder\" than the others, *i.e.* the model has a harder time giving a confident prediction. For example, here is an easy \"9\" and a hard \"9\" side by side:\n"
   ]
  },
  {
   "cell_type": "markdown",
   "metadata": {
    "id": "POY2Rs6qRsdA"
   },
   "source": [
    "![easy_and_hard.png](data:image/png;base64,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)"
   ]
  },
  {
   "cell_type": "markdown",
   "metadata": {
    "id": "0dCJWaXERsnR"
   },
   "source": [
    "**Plot an 'easy' training example and a 'hard' training example side-by-side** using the *plot_matrix_grid* function. This will require you to pull out two separate rows of *X_trn* and turn them (together) into a tensor with shape (2,28,28) so that the *plot_matrix_grid* knows what to plot."
   ]
  },
  {
   "cell_type": "code",
   "execution_count": 24,
   "metadata": {
    "colab": {
     "base_uri": "https://localhost:8080/",
     "height": 140
    },
    "executionInfo": {
     "elapsed": 300,
     "status": "ok",
     "timestamp": 1675652984687,
     "user": {
      "displayName": "Mirco Ravanelli",
      "userId": "06892056361698510975"
     },
     "user_tz": 300
    },
    "id": "6x6buNtpLo7i",
    "outputId": "6fc21c53-c37d-4149-f824-7e47124d3b7d"
   },
   "outputs": [
    {
     "data": {
      "image/png": "[encoded data removed]",
      "text/plain": [
       "<Figure size 1152x144 with 9 Axes>"
      ]
     },
     "metadata": {
      "needs_background": "light"
     },
     "output_type": "display_data"
    }
   ],
   "source": [
    "# You code here. Aim for 1-4 lines.\n",
    "plot_matrix_grid(X_trn[:2].numpy().reshape(2,28,28))"
   ]
  },
  {
   "cell_type": "markdown",
   "metadata": {
    "id": "9guSqFbOLo7j"
   },
   "source": [
    "**Inspect your trained model's filters** by plotting them with the *plot_matrix_grid* function. They should no longer be completely random and instead contain structures that look like little \"edge\" detectors, such as the \"diagonal line\" detector shown below:"
   ]
  },
  {
   "cell_type": "markdown",
   "metadata": {
    "id": "i0chhgNTQkVw"
   },
   "source": [
    "![image.png](data:image/png;base64,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)"
   ]
  },
  {
   "cell_type": "code",
   "execution_count": 25,
   "metadata": {
    "id": "7dv7jRQyLo7j",
    "scrolled": false
   },
   "outputs": [
    {
     "data": {
      "image/png": "[encoded data removed]",
      "text/plain": [
       "<Figure size 1152x144 with 9 Axes>"
      ]
     },
     "metadata": {
      "needs_background": "light"
     },
     "output_type": "display_data"
    }
   ],
   "source": [
    "# Your code here. Aim for 2-3 lines.\n",
    "W1, b1, W2, b2 = model.parameters()\n",
    "plot_matrix_grid(W1.reshape(-1,5,5))"
   ]
  },
  {
   "cell_type": "code",
   "execution_count": null,
   "metadata": {},
   "outputs": [],
   "source": []
  }
 ],
 "metadata": {
  "colab": {
   "authorship_tag": "ABX9TyPEADEAmWLSkGfPyBSMHD3D",
   "provenance": []
  },
  "kernelspec": {
   "display_name": "Python 3",
   "language": "python",
   "name": "python3"
  },
  "language_info": {
   "codemirror_mode": {
    "name": "ipython",
    "version": 3
   },
   "file_extension": ".py",
   "mimetype": "text/x-python",
   "name": "python",
   "nbconvert_exporter": "python",
   "pygments_lexer": "ipython3",
   "version": "3.8.5"
  }
 },
 "nbformat": 4,
 "nbformat_minor": 1
}
