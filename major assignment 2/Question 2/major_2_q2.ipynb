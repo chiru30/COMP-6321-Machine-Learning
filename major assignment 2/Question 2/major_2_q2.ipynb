{
 "cells": [
  {
   "cell_type": "code",
   "execution_count": 1,
   "metadata": {
    "id": "uqqkgleBYX0i"
   },
   "outputs": [],
   "source": [
    "import pandas as pd\n",
    "import numpy as np\n",
    "import matplotlib.pyplot as plt"
   ]
  },
  {
   "cell_type": "markdown",
   "metadata": {
    "id": "a8zLDBcKZnVc"
   },
   "source": [
    "Loading dataset"
   ]
  },
  {
   "cell_type": "code",
   "execution_count": 2,
   "metadata": {
    "id": "jxvZBycGZJUX"
   },
   "outputs": [],
   "source": [
    "import requests\n",
    "from io import StringIO\n",
    "\n",
    "# Fetch the data from GitHub\n",
    "url = \"https://raw.githubusercontent.com/chiru30/COMP-6321-Machine-Learning/main/major%20assignment%202/Question%201/AMZN.csv\"\n",
    "response = requests.get(url)\n",
    "data = response.text\n",
    "\n",
    "# Read the fetched data into a DataFrame\n",
    "df = pd.read_csv(StringIO(data))"
   ]
  },
  {
   "cell_type": "code",
   "execution_count": 3,
   "metadata": {
    "colab": {
     "base_uri": "https://localhost:8080/",
     "height": 204
    },
    "id": "LkdRLESQaJAb",
    "outputId": "214d1e9c-1b99-43cb-b0f7-c3fb63518188"
   },
   "outputs": [
    {
     "data": {
      "text/html": [
       "<div>\n",
       "<style scoped>\n",
       "    .dataframe tbody tr th:only-of-type {\n",
       "        vertical-align: middle;\n",
       "    }\n",
       "\n",
       "    .dataframe tbody tr th {\n",
       "        vertical-align: top;\n",
       "    }\n",
       "\n",
       "    .dataframe thead th {\n",
       "        text-align: right;\n",
       "    }\n",
       "</style>\n",
       "<table border=\"1\" class=\"dataframe\">\n",
       "  <thead>\n",
       "    <tr style=\"text-align: right;\">\n",
       "      <th></th>\n",
       "      <th>Date</th>\n",
       "      <th>Open</th>\n",
       "      <th>High</th>\n",
       "      <th>Low</th>\n",
       "      <th>Close</th>\n",
       "      <th>Adj Close</th>\n",
       "      <th>Volume</th>\n",
       "    </tr>\n",
       "  </thead>\n",
       "  <tbody>\n",
       "    <tr>\n",
       "      <th>0</th>\n",
       "      <td>1997-05-15</td>\n",
       "      <td>0.121875</td>\n",
       "      <td>0.125000</td>\n",
       "      <td>0.096354</td>\n",
       "      <td>0.097917</td>\n",
       "      <td>0.097917</td>\n",
       "      <td>1443120000</td>\n",
       "    </tr>\n",
       "    <tr>\n",
       "      <th>1</th>\n",
       "      <td>1997-05-16</td>\n",
       "      <td>0.098438</td>\n",
       "      <td>0.098958</td>\n",
       "      <td>0.085417</td>\n",
       "      <td>0.086458</td>\n",
       "      <td>0.086458</td>\n",
       "      <td>294000000</td>\n",
       "    </tr>\n",
       "    <tr>\n",
       "      <th>2</th>\n",
       "      <td>1997-05-19</td>\n",
       "      <td>0.088021</td>\n",
       "      <td>0.088542</td>\n",
       "      <td>0.081250</td>\n",
       "      <td>0.085417</td>\n",
       "      <td>0.085417</td>\n",
       "      <td>122136000</td>\n",
       "    </tr>\n",
       "    <tr>\n",
       "      <th>3</th>\n",
       "      <td>1997-05-20</td>\n",
       "      <td>0.086458</td>\n",
       "      <td>0.087500</td>\n",
       "      <td>0.081771</td>\n",
       "      <td>0.081771</td>\n",
       "      <td>0.081771</td>\n",
       "      <td>109344000</td>\n",
       "    </tr>\n",
       "    <tr>\n",
       "      <th>4</th>\n",
       "      <td>1997-05-21</td>\n",
       "      <td>0.081771</td>\n",
       "      <td>0.082292</td>\n",
       "      <td>0.068750</td>\n",
       "      <td>0.071354</td>\n",
       "      <td>0.071354</td>\n",
       "      <td>377064000</td>\n",
       "    </tr>\n",
       "  </tbody>\n",
       "</table>\n",
       "</div>"
      ],
      "text/plain": [
       "         Date      Open      High       Low     Close  Adj Close      Volume\n",
       "0  1997-05-15  0.121875  0.125000  0.096354  0.097917   0.097917  1443120000\n",
       "1  1997-05-16  0.098438  0.098958  0.085417  0.086458   0.086458   294000000\n",
       "2  1997-05-19  0.088021  0.088542  0.081250  0.085417   0.085417   122136000\n",
       "3  1997-05-20  0.086458  0.087500  0.081771  0.081771   0.081771   109344000\n",
       "4  1997-05-21  0.081771  0.082292  0.068750  0.071354   0.071354   377064000"
      ]
     },
     "execution_count": 3,
     "metadata": {},
     "output_type": "execute_result"
    }
   ],
   "source": [
    "df.head()"
   ]
  },
  {
   "cell_type": "code",
   "execution_count": 4,
   "metadata": {
    "colab": {
     "base_uri": "https://localhost:8080/",
     "height": 204
    },
    "id": "BadI2oMwaZU2",
    "outputId": "5dc1d585-fce0-41ee-8705-2e02d77db04f"
   },
   "outputs": [
    {
     "data": {
      "text/html": [
       "<div>\n",
       "<style scoped>\n",
       "    .dataframe tbody tr th:only-of-type {\n",
       "        vertical-align: middle;\n",
       "    }\n",
       "\n",
       "    .dataframe tbody tr th {\n",
       "        vertical-align: top;\n",
       "    }\n",
       "\n",
       "    .dataframe thead th {\n",
       "        text-align: right;\n",
       "    }\n",
       "</style>\n",
       "<table border=\"1\" class=\"dataframe\">\n",
       "  <thead>\n",
       "    <tr style=\"text-align: right;\">\n",
       "      <th></th>\n",
       "      <th>Date</th>\n",
       "      <th>Open</th>\n",
       "      <th>High</th>\n",
       "      <th>Low</th>\n",
       "      <th>Close</th>\n",
       "      <th>Adj Close</th>\n",
       "      <th>Volume</th>\n",
       "    </tr>\n",
       "  </thead>\n",
       "  <tbody>\n",
       "    <tr>\n",
       "      <th>6511</th>\n",
       "      <td>2023-03-30</td>\n",
       "      <td>101.550003</td>\n",
       "      <td>103.040001</td>\n",
       "      <td>101.010002</td>\n",
       "      <td>102.000000</td>\n",
       "      <td>102.000000</td>\n",
       "      <td>53633400</td>\n",
       "    </tr>\n",
       "    <tr>\n",
       "      <th>6512</th>\n",
       "      <td>2023-03-31</td>\n",
       "      <td>102.160004</td>\n",
       "      <td>103.489998</td>\n",
       "      <td>101.949997</td>\n",
       "      <td>103.290001</td>\n",
       "      <td>103.290001</td>\n",
       "      <td>56704300</td>\n",
       "    </tr>\n",
       "    <tr>\n",
       "      <th>6513</th>\n",
       "      <td>2023-04-03</td>\n",
       "      <td>102.300003</td>\n",
       "      <td>103.290001</td>\n",
       "      <td>101.430000</td>\n",
       "      <td>102.410004</td>\n",
       "      <td>102.410004</td>\n",
       "      <td>41135700</td>\n",
       "    </tr>\n",
       "    <tr>\n",
       "      <th>6514</th>\n",
       "      <td>2023-04-04</td>\n",
       "      <td>102.750000</td>\n",
       "      <td>104.199997</td>\n",
       "      <td>102.110001</td>\n",
       "      <td>103.949997</td>\n",
       "      <td>103.949997</td>\n",
       "      <td>48662500</td>\n",
       "    </tr>\n",
       "    <tr>\n",
       "      <th>6515</th>\n",
       "      <td>2023-04-05</td>\n",
       "      <td>103.910004</td>\n",
       "      <td>103.910004</td>\n",
       "      <td>100.750000</td>\n",
       "      <td>101.099998</td>\n",
       "      <td>101.099998</td>\n",
       "      <td>45103000</td>\n",
       "    </tr>\n",
       "  </tbody>\n",
       "</table>\n",
       "</div>"
      ],
      "text/plain": [
       "            Date        Open        High         Low       Close   Adj Close  \\\n",
       "6511  2023-03-30  101.550003  103.040001  101.010002  102.000000  102.000000   \n",
       "6512  2023-03-31  102.160004  103.489998  101.949997  103.290001  103.290001   \n",
       "6513  2023-04-03  102.300003  103.290001  101.430000  102.410004  102.410004   \n",
       "6514  2023-04-04  102.750000  104.199997  102.110001  103.949997  103.949997   \n",
       "6515  2023-04-05  103.910004  103.910004  100.750000  101.099998  101.099998   \n",
       "\n",
       "        Volume  \n",
       "6511  53633400  \n",
       "6512  56704300  \n",
       "6513  41135700  \n",
       "6514  48662500  \n",
       "6515  45103000  "
      ]
     },
     "execution_count": 4,
     "metadata": {},
     "output_type": "execute_result"
    }
   ],
   "source": [
    "df.tail()"
   ]
  },
  {
   "cell_type": "code",
   "execution_count": 5,
   "metadata": {
    "colab": {
     "base_uri": "https://localhost:8080/"
    },
    "id": "52FEVuJIbKZ-",
    "outputId": "b7dc65af-d630-44fa-cf9e-d53a6be5fe40"
   },
   "outputs": [
    {
     "name": "stdout",
     "output_type": "stream",
     "text": [
      "<class 'pandas.core.frame.DataFrame'>\n",
      "RangeIndex: 6516 entries, 0 to 6515\n",
      "Data columns (total 7 columns):\n",
      " #   Column     Non-Null Count  Dtype  \n",
      "---  ------     --------------  -----  \n",
      " 0   Date       6516 non-null   object \n",
      " 1   Open       6516 non-null   float64\n",
      " 2   High       6516 non-null   float64\n",
      " 3   Low        6516 non-null   float64\n",
      " 4   Close      6516 non-null   float64\n",
      " 5   Adj Close  6516 non-null   float64\n",
      " 6   Volume     6516 non-null   int64  \n",
      "dtypes: float64(5), int64(1), object(1)\n",
      "memory usage: 356.5+ KB\n"
     ]
    }
   ],
   "source": [
    "df.info()"
   ]
  },
  {
   "cell_type": "code",
   "execution_count": 6,
   "metadata": {
    "colab": {
     "base_uri": "https://localhost:8080/",
     "height": 297
    },
    "id": "pNT2EIThbNCJ",
    "outputId": "101f6bdf-0d45-4657-de7e-1497c3c788c3"
   },
   "outputs": [
    {
     "data": {
      "text/html": [
       "<div>\n",
       "<style scoped>\n",
       "    .dataframe tbody tr th:only-of-type {\n",
       "        vertical-align: middle;\n",
       "    }\n",
       "\n",
       "    .dataframe tbody tr th {\n",
       "        vertical-align: top;\n",
       "    }\n",
       "\n",
       "    .dataframe thead th {\n",
       "        text-align: right;\n",
       "    }\n",
       "</style>\n",
       "<table border=\"1\" class=\"dataframe\">\n",
       "  <thead>\n",
       "    <tr style=\"text-align: right;\">\n",
       "      <th></th>\n",
       "      <th>Open</th>\n",
       "      <th>High</th>\n",
       "      <th>Low</th>\n",
       "      <th>Close</th>\n",
       "      <th>Adj Close</th>\n",
       "      <th>Volume</th>\n",
       "    </tr>\n",
       "  </thead>\n",
       "  <tbody>\n",
       "    <tr>\n",
       "      <th>count</th>\n",
       "      <td>6516.000000</td>\n",
       "      <td>6516.000000</td>\n",
       "      <td>6516.000000</td>\n",
       "      <td>6516.000000</td>\n",
       "      <td>6516.000000</td>\n",
       "      <td>6.516000e+03</td>\n",
       "    </tr>\n",
       "    <tr>\n",
       "      <th>mean</th>\n",
       "      <td>31.611626</td>\n",
       "      <td>31.991995</td>\n",
       "      <td>31.193432</td>\n",
       "      <td>31.599740</td>\n",
       "      <td>31.599740</td>\n",
       "      <td>1.425338e+08</td>\n",
       "    </tr>\n",
       "    <tr>\n",
       "      <th>std</th>\n",
       "      <td>48.095343</td>\n",
       "      <td>48.659651</td>\n",
       "      <td>47.464476</td>\n",
       "      <td>48.060258</td>\n",
       "      <td>48.060258</td>\n",
       "      <td>1.401619e+08</td>\n",
       "    </tr>\n",
       "    <tr>\n",
       "      <th>min</th>\n",
       "      <td>0.070313</td>\n",
       "      <td>0.072396</td>\n",
       "      <td>0.065625</td>\n",
       "      <td>0.069792</td>\n",
       "      <td>0.069792</td>\n",
       "      <td>9.744000e+06</td>\n",
       "    </tr>\n",
       "    <tr>\n",
       "      <th>25%</th>\n",
       "      <td>1.998875</td>\n",
       "      <td>2.028500</td>\n",
       "      <td>1.964750</td>\n",
       "      <td>2.001250</td>\n",
       "      <td>2.001250</td>\n",
       "      <td>6.888182e+07</td>\n",
       "    </tr>\n",
       "    <tr>\n",
       "      <th>50%</th>\n",
       "      <td>6.456750</td>\n",
       "      <td>6.535500</td>\n",
       "      <td>6.353250</td>\n",
       "      <td>6.444250</td>\n",
       "      <td>6.444250</td>\n",
       "      <td>1.059050e+08</td>\n",
       "    </tr>\n",
       "    <tr>\n",
       "      <th>75%</th>\n",
       "      <td>38.451375</td>\n",
       "      <td>38.688000</td>\n",
       "      <td>38.203001</td>\n",
       "      <td>38.464625</td>\n",
       "      <td>38.464625</td>\n",
       "      <td>1.607700e+08</td>\n",
       "    </tr>\n",
       "    <tr>\n",
       "      <th>max</th>\n",
       "      <td>187.199997</td>\n",
       "      <td>188.654007</td>\n",
       "      <td>184.839493</td>\n",
       "      <td>186.570496</td>\n",
       "      <td>186.570496</td>\n",
       "      <td>2.086584e+09</td>\n",
       "    </tr>\n",
       "  </tbody>\n",
       "</table>\n",
       "</div>"
      ],
      "text/plain": [
       "              Open         High          Low        Close    Adj Close  \\\n",
       "count  6516.000000  6516.000000  6516.000000  6516.000000  6516.000000   \n",
       "mean     31.611626    31.991995    31.193432    31.599740    31.599740   \n",
       "std      48.095343    48.659651    47.464476    48.060258    48.060258   \n",
       "min       0.070313     0.072396     0.065625     0.069792     0.069792   \n",
       "25%       1.998875     2.028500     1.964750     2.001250     2.001250   \n",
       "50%       6.456750     6.535500     6.353250     6.444250     6.444250   \n",
       "75%      38.451375    38.688000    38.203001    38.464625    38.464625   \n",
       "max     187.199997   188.654007   184.839493   186.570496   186.570496   \n",
       "\n",
       "             Volume  \n",
       "count  6.516000e+03  \n",
       "mean   1.425338e+08  \n",
       "std    1.401619e+08  \n",
       "min    9.744000e+06  \n",
       "25%    6.888182e+07  \n",
       "50%    1.059050e+08  \n",
       "75%    1.607700e+08  \n",
       "max    2.086584e+09  "
      ]
     },
     "execution_count": 6,
     "metadata": {},
     "output_type": "execute_result"
    }
   ],
   "source": [
    "df.describe()"
   ]
  },
  {
   "cell_type": "code",
   "execution_count": 7,
   "metadata": {
    "colab": {
     "base_uri": "https://localhost:8080/"
    },
    "id": "7zPYcf1RbmKz",
    "outputId": "da8a552c-5a8e-4c89-9539-b5db82be712e",
    "scrolled": true
   },
   "outputs": [
    {
     "data": {
      "text/plain": [
       "0    0.097917\n",
       "1    0.086458\n",
       "2    0.085417\n",
       "3    0.081771\n",
       "4    0.071354\n",
       "Name: Close, dtype: float64"
      ]
     },
     "execution_count": 7,
     "metadata": {},
     "output_type": "execute_result"
    }
   ],
   "source": [
    "data = df['Close']\n",
    "data.head()"
   ]
  },
  {
   "cell_type": "code",
   "execution_count": 8,
   "metadata": {
    "colab": {
     "base_uri": "https://localhost:8080/",
     "height": 430
    },
    "id": "M-P57RbhbpPt",
    "outputId": "587ebae8-d6f1-45e4-b69b-a50a8f470741",
    "scrolled": false
   },
   "outputs": [
    {
     "data": {
      "image/png": "[encoded data removed]",
      "text/plain": [
       "<Figure size 432x288 with 1 Axes>"
      ]
     },
     "metadata": {
      "needs_background": "light"
     },
     "output_type": "display_data"
    }
   ],
   "source": [
    "timeseries = data.values.astype('float32')\n",
    "\n",
    "plt.plot(timeseries)\n",
    "plt.show()"
   ]
  },
  {
   "cell_type": "code",
   "execution_count": null,
   "metadata": {},
   "outputs": [],
   "source": []
  },
  {
   "cell_type": "markdown",
   "metadata": {
    "id": "lYNTxYh881fj"
   },
   "source": [
    "Preprocessing"
   ]
  },
  {
   "cell_type": "code",
   "execution_count": 9,
   "metadata": {
    "id": "nGXxipox7xiR"
   },
   "outputs": [],
   "source": [
    "import torch\n",
    "\n",
    "def create_dataset(dataset, lookback):\n",
    "    X, y = [], []\n",
    "    for i in range(len(dataset) - lookback):\n",
    "        feature = dataset[i:i + lookback]\n",
    "        target = dataset[i + 1:i + lookback + 1]\n",
    "        X.append(feature)\n",
    "        y.append(target)\n",
    "    return np.array(X), np.array(y)\n"
   ]
  },
  {
   "cell_type": "code",
   "execution_count": 10,
   "metadata": {
    "colab": {
     "base_uri": "https://localhost:8080/"
    },
    "id": "SBQwluHv8seq",
    "outputId": "cd1eb4c9-1f31-4351-f0a1-b51b84c81146"
   },
   "outputs": [
    {
     "name": "stdout",
     "output_type": "stream",
     "text": [
      "X shape: torch.Size([6506, 10, 1]), y shape: torch.Size([6506, 10, 1])\n"
     ]
    }
   ],
   "source": [
    "from sklearn.preprocessing import MinMaxScaler\n",
    "\n",
    "lookback_size = 10\n",
    "sequences, targets = create_dataset(timeseries, lookback_size)\n",
    "\n",
    "# Reshape sequences and targets for LSTM input\n",
    "sequences = sequences.reshape(-1, lookback_size, 1)\n",
    "targets = targets.reshape(-1, lookback_size, 1)\n",
    "\n",
    "# Normalize sequences and targets using MinMaxScaler\n",
    "scaler = MinMaxScaler()\n",
    "reshaped_sequences = scaler.fit_transform(sequences.reshape(-1, sequences.shape[-1]))\n",
    "reshaped_targets = scaler.transform(targets.reshape(-1, targets.shape[-1]))\n",
    "\n",
    "# Convert the reshaped sequences and targets to PyTorch tensors\n",
    "X_tensor = torch.tensor(reshaped_sequences.reshape(-1, lookback_size, 1)).float()\n",
    "y_tensor = torch.tensor(reshaped_targets.reshape(-1, lookback_size, 1)).float()\n",
    "\n",
    "# Confirm the shapes of X and y tensors\n",
    "print(f\"X shape: {X_tensor.shape}, y shape: {y_tensor.shape}\")\n"
   ]
  },
  {
   "cell_type": "code",
   "execution_count": 36,
   "metadata": {
    "colab": {
     "base_uri": "https://localhost:8080/"
    },
    "id": "RLDEaLgG_cfX",
    "outputId": "beb1bddc-080a-49d4-b4f3-10aa846f696d"
   },
   "outputs": [],
   "source": [
    "# # Assuming 'timeseries' is your time series data (numpy array)\n",
    "# lookback_size = 10\n",
    "# sequences, targets = create_dataset(timeseries, lookback_size)\n",
    "# print(f\"Targets Shape: {targets.shape}\")  # Check the shape of the 'targets' variable\n"
   ]
  },
  {
   "cell_type": "code",
   "execution_count": 37,
   "metadata": {
    "colab": {
     "base_uri": "https://localhost:8080/"
    },
    "id": "yjYAQbFY_ohs",
    "outputId": "730374a7-b4aa-4cfb-aa0e-94b58d6eacb6"
   },
   "outputs": [],
   "source": [
    "# import torch\n",
    "\n",
    "# # Assuming 'timeseries' is your time series data (numpy array)\n",
    "# lookback_size = 10\n",
    "# sequences, targets = create_dataset(timeseries, lookback_size)\n",
    "\n",
    "# # Convert the 'targets' tensor into sequences with the lookback size\n",
    "# reshaped_targets = targets.unfold(0, len(targets) - lookback_size + 1, 1)\n",
    "# reshaped_targets = reshaped_targets.reshape(-1, lookback_size)\n",
    "\n",
    "# # Normalize the reshaped targets using MinMaxScaler\n",
    "# scaler = MinMaxScaler()\n",
    "# reshaped_targets_normalized = scaler.fit_transform(reshaped_targets)\n",
    "\n",
    "# # Convert the reshaped and normalized targets to PyTorch tensor\n",
    "# tensor_targets = torch.tensor(reshaped_targets_normalized, dtype=torch.float32)\n",
    "\n",
    "# # Confirm the shape of the tensor targets\n",
    "# print(f\"Tensor Targets shape: {tensor_targets.shape}\")\n"
   ]
  },
  {
   "cell_type": "markdown",
   "metadata": {
    "id": "xxjFCFyy_sp4"
   },
   "source": [
    "Model Training"
   ]
  },
  {
   "cell_type": "code",
   "execution_count": 11,
   "metadata": {
    "id": "IGEs4TpNAAC1"
   },
   "outputs": [],
   "source": [
    "import torch\n",
    "import torch.nn as nn\n",
    "class LSTM(nn.Module):\n",
    "    def __init__(self, input_size, hidden_size, output_size, num_layers):\n",
    "        super(LSTM, self).__init__()\n",
    "        self.lstm = nn.LSTM(input_size, hidden_size, num_layers, batch_first=True)\n",
    "        self.linear = nn.Linear(hidden_size, output_size)\n",
    "\n",
    "    def forward(self, x):\n",
    "        out, _ = self.lstm(x)\n",
    "        out = self.linear(out)\n",
    "        return out\n"
   ]
  },
  {
   "cell_type": "code",
   "execution_count": 39,
   "metadata": {
    "id": "xZQ1EZGIBjmA"
   },
   "outputs": [],
   "source": [
    "from torch.utils.data import TensorDataset, DataLoader\n",
    "\n",
    "dataloader = data.DataLoader(data.TensorDataset(X_tensor, y_tensor), batch_size=8)"
   ]
  },
  {
   "cell_type": "code",
   "execution_count": 40,
   "metadata": {
    "id": "0OeCN7EmC-Y-"
   },
   "outputs": [],
   "source": [
    "# Instantiate the LSTM model\n",
    "model = LSTM(input_size=1, hidden_size=64, output_size=1, num_layers=2)\n",
    "\n",
    "# Define loss function and optimizer\n",
    "criterion = nn.MSELoss()\n",
    "optimizer = torch.optim.Adam(model.parameters(), lr=0.001)"
   ]
  },
  {
   "cell_type": "code",
   "execution_count": 41,
   "metadata": {},
   "outputs": [
    {
     "name": "stdout",
     "output_type": "stream",
     "text": [
      "Epoch [0/100], Loss: 0.0010\n",
      "Epoch [1/100], Loss: 0.0009694189648143947\n",
      "Epoch [2/100], Loss: 0.0012402350548654795\n",
      "Epoch [3/100], Loss: 0.0012773151975125074\n",
      "Epoch [4/100], Loss: 0.0019429198000580072\n",
      "Epoch [5/100], Loss: 0.0023057505022734404\n",
      "Epoch [6/100], Loss: 0.0012112399563193321\n",
      "Epoch [7/100], Loss: 0.00027819868410006166\n",
      "Epoch [8/100], Loss: 0.00033168247318826616\n",
      "Epoch [9/100], Loss: 0.0007273567607626319\n",
      "Epoch [10/100], Loss: 0.0010813577100634575\n",
      "Epoch [10/100], Loss: 0.0014\n",
      "Epoch [11/100], Loss: 0.0013602061662822962\n",
      "Epoch [12/100], Loss: 0.0006043203175067902\n",
      "Epoch [13/100], Loss: 0.0003609741397667676\n",
      "Epoch [14/100], Loss: 0.0008774801972322166\n",
      "Epoch [15/100], Loss: 0.0011530080810189247\n",
      "Epoch [16/100], Loss: 0.0009296413627453148\n",
      "Epoch [17/100], Loss: 0.0010163867846131325\n",
      "Epoch [18/100], Loss: 0.0017847236013039947\n",
      "Epoch [19/100], Loss: 0.0018397154053673148\n",
      "Epoch [20/100], Loss: 0.0015517681604251266\n",
      "Epoch [20/100], Loss: 0.0016\n",
      "Epoch [21/100], Loss: 0.001562132267281413\n",
      "Epoch [22/100], Loss: 0.001812557689845562\n",
      "Epoch [23/100], Loss: 0.001794358715415001\n",
      "Epoch [24/100], Loss: 0.0017682738834992051\n",
      "Epoch [25/100], Loss: 0.0013401845935732126\n",
      "Epoch [26/100], Loss: 0.0018498195568099618\n",
      "Epoch [27/100], Loss: 0.0015141020994633436\n",
      "Epoch [28/100], Loss: 0.009166841395199299\n",
      "Epoch [29/100], Loss: 0.0020614590030163527\n",
      "Epoch [30/100], Loss: 0.001659526489675045\n",
      "Epoch [30/100], Loss: 0.0012\n",
      "Epoch [31/100], Loss: 0.0011674723355099559\n",
      "Epoch [32/100], Loss: 0.0012065715854987502\n",
      "Epoch [33/100], Loss: 0.0009926720522344112\n",
      "Epoch [34/100], Loss: 0.000895040575414896\n",
      "Epoch [35/100], Loss: 0.0007894037407822907\n",
      "Epoch [36/100], Loss: 0.0008134291274473071\n",
      "Epoch [37/100], Loss: 0.000708458130247891\n",
      "Epoch [38/100], Loss: 0.0007237015524879098\n",
      "Epoch [39/100], Loss: 0.0006827853503637016\n",
      "Epoch [40/100], Loss: 0.0006899596191942692\n",
      "Epoch [40/100], Loss: 0.0007\n",
      "Epoch [41/100], Loss: 0.0006542454939335585\n",
      "Epoch [42/100], Loss: 0.000644204206764698\n",
      "Epoch [43/100], Loss: 0.0006149097462184727\n",
      "Epoch [44/100], Loss: 0.0005989455385133624\n",
      "Epoch [45/100], Loss: 0.0005668408120982349\n",
      "Epoch [46/100], Loss: 0.000544243841432035\n",
      "Epoch [47/100], Loss: 0.0005154696409590542\n",
      "Epoch [48/100], Loss: 0.0004922625375911593\n",
      "Epoch [49/100], Loss: 0.0004697142285294831\n",
      "Epoch [50/100], Loss: 0.0004492269945330918\n",
      "Epoch [50/100], Loss: 0.0004\n",
      "Epoch [51/100], Loss: 0.000431866297731176\n",
      "Epoch [52/100], Loss: 0.00041592546040192246\n",
      "Epoch [53/100], Loss: 0.0003998788888566196\n",
      "Epoch [54/100], Loss: 0.000388885207939893\n",
      "Epoch [55/100], Loss: 0.0003728093288373202\n",
      "Epoch [56/100], Loss: 0.0003605746023822576\n",
      "Epoch [57/100], Loss: 0.0003481340245343745\n",
      "Epoch [58/100], Loss: 0.00033515546238049865\n",
      "Epoch [59/100], Loss: 0.00031846860656514764\n",
      "Epoch [60/100], Loss: 0.0003062189498450607\n",
      "Epoch [60/100], Loss: 0.0003\n",
      "Epoch [61/100], Loss: 0.00029159773839637637\n",
      "Epoch [62/100], Loss: 0.0002782228693831712\n",
      "Epoch [63/100], Loss: 0.0002626907080411911\n",
      "Epoch [64/100], Loss: 0.0002503967843949795\n",
      "Epoch [65/100], Loss: 0.00023533860803581774\n",
      "Epoch [66/100], Loss: 0.0002196884306613356\n",
      "Epoch [67/100], Loss: 0.0002073907235171646\n",
      "Epoch [68/100], Loss: 0.000191518192877993\n",
      "Epoch [69/100], Loss: 0.0001796362193999812\n",
      "Epoch [70/100], Loss: 0.00016683703870512545\n",
      "Epoch [70/100], Loss: 0.0002\n",
      "Epoch [71/100], Loss: 0.00015389425971079618\n",
      "Epoch [72/100], Loss: 0.00014180436846800148\n",
      "Epoch [73/100], Loss: 0.00013208380551077425\n",
      "Epoch [74/100], Loss: 0.00012188129767309874\n",
      "Epoch [75/100], Loss: 0.00011399013601476327\n",
      "Epoch [76/100], Loss: 0.00010592238686513156\n",
      "Epoch [77/100], Loss: 9.966470679501072e-05\n",
      "Epoch [78/100], Loss: 9.323078847955912e-05\n",
      "Epoch [79/100], Loss: 8.860851812642068e-05\n",
      "Epoch [80/100], Loss: 8.429301669821143e-05\n",
      "Epoch [80/100], Loss: 0.0001\n",
      "Epoch [81/100], Loss: 8.172885281965137e-05\n",
      "Epoch [82/100], Loss: 7.983925752341747e-05\n",
      "Epoch [83/100], Loss: 7.877595635363832e-05\n",
      "Epoch [84/100], Loss: 7.82889110269025e-05\n",
      "Epoch [85/100], Loss: 7.790567178744823e-05\n",
      "Epoch [86/100], Loss: 7.899028423707932e-05\n",
      "Epoch [87/100], Loss: 7.97168686403893e-05\n",
      "Epoch [88/100], Loss: 8.217208232963458e-05\n",
      "Epoch [89/100], Loss: 8.393060124944896e-05\n",
      "Epoch [90/100], Loss: 8.705706568434834e-05\n",
      "Epoch [90/100], Loss: 0.0001\n",
      "Epoch [91/100], Loss: 8.995826647151262e-05\n",
      "Epoch [92/100], Loss: 9.331329783890396e-05\n",
      "Epoch [93/100], Loss: 9.671584848547354e-05\n",
      "Epoch [94/100], Loss: 0.00010007998207584023\n",
      "Epoch [95/100], Loss: 0.00010318383283447474\n",
      "Epoch [96/100], Loss: 0.00010606607975205407\n",
      "Epoch [97/100], Loss: 0.00010841090988833457\n",
      "Epoch [98/100], Loss: 0.0001102666137740016\n",
      "Epoch [99/100], Loss: 0.00011136557441204786\n",
      "Epoch [100/100], Loss: 0.00011177945270901546\n"
     ]
    }
   ],
   "source": [
    "# Training loop with DataLoader\n",
    "num_epochs = 100\n",
    "losses = []\n",
    "\n",
    "for epoch in range(num_epochs):\n",
    "    for inputs, targets in dataloader:\n",
    "        # inputs = inputs.unsqueeze(-1)  # Adding a dimension for LSTM input\n",
    "\n",
    "        optimizer.zero_grad()\n",
    "\n",
    "        # Forward pass\n",
    "        outputs = model(inputs)\n",
    "\n",
    "        # # Reshape outputs and targets for loss calculation\n",
    "        # batch_size = inputs.size(0)\n",
    "        # outputs = outputs.view(batch_size, -1)  # Reshaping outputs\n",
    "        # targets = targets.view(batch_size, -1)  # Reshaping targets\n",
    "\n",
    "        loss = criterion(outputs, targets)\n",
    "        loss.backward()\n",
    "        optimizer.step()\n",
    "\n",
    "    losses.append(loss.item())\n",
    "\n",
    "    if epoch % 10 == 0:\n",
    "        print(f'Epoch [{epoch}/{num_epochs}], Loss: {loss.item():.4f}')\n",
    "\n",
    "    print(f'Epoch [{epoch+1}/{num_epochs}], Loss: {loss.item()}')"
   ]
  },
  {
   "cell_type": "code",
   "execution_count": 42,
   "metadata": {
    "id": "RPRefcqiC-Uo",
    "scrolled": false
   },
   "outputs": [
    {
     "data": {
      "image/png": "[encoded data removed]",
      "text/plain": [
       "<Figure size 576x360 with 1 Axes>"
      ]
     },
     "metadata": {
      "needs_background": "light"
     },
     "output_type": "display_data"
    }
   ],
   "source": [
    "# Plot the training loss\n",
    "plt.figure(figsize=(8, 5))\n",
    "plt.plot(losses, label='Training Loss')\n",
    "plt.xlabel('Epochs')\n",
    "plt.ylabel('Loss')\n",
    "plt.title('Training Loss')\n",
    "plt.legend()\n",
    "plt.show()\n"
   ]
  },
  {
   "cell_type": "code",
   "execution_count": 83,
   "metadata": {
    "scrolled": true
   },
   "outputs": [
    {
     "data": {
      "image/png": "[encoded data removed]",
      "text/plain": [
       "<Figure size 864x432 with 1 Axes>"
      ]
     },
     "metadata": {
      "needs_background": "light"
     },
     "output_type": "display_data"
    }
   ],
   "source": [
    "predictions = []\n",
    "\n",
    "model.eval()\n",
    "with torch.no_grad():\n",
    "    test_loader = data.DataLoader(data.TensorDataset(X_tensor, y_tensor), batch_size=1)\n",
    "    for inputs, targets in test_loader:\n",
    "        outputs = model(inputs)\n",
    "        predictions.extend(outputs.detach().numpy().flatten())  # Flatten the sequences\n",
    "\n",
    "# Assuming timeseries is the original data\n",
    "# Stretch the original data to match the length of 6000\n",
    "original_stretched = np.interp(np.linspace(0, 1, 6000), np.linspace(0, 1, len(timeseries)), timeseries)\n",
    "\n",
    "# Calculate the range for plotting the predicted values\n",
    "predicted_range = np.arange(len(original_stretched) - lookback_size + 1)\n",
    "\n",
    "# Ensure predicted values match the length of the stretched original data\n",
    "if len(predicted_values) > len(original_stretched):\n",
    "    predicted_values = predicted_values[:len(original_stretched)]\n",
    "elif len(predicted_values) < len(original_stretched):\n",
    "    # Interpolate to match lengths\n",
    "    predicted_values = np.interp(np.linspace(0, 1, len(original_stretched)), np.linspace(0, 1, len(predicted_values)), predicted_values)\n",
    "\n",
    "# Plot the stretched original data and the predicted values\n",
    "plt.figure(figsize=(12, 6))\n",
    "plt.plot(original_stretched, label='Original Data (Stretched to 6000)')\n",
    "plt.plot(predicted_values, label='Predicted Data')\n",
    "plt.xlabel('Data Point')\n",
    "plt.ylabel('Close')\n",
    "plt.title('Comparison between original data and predicted data')\n",
    "plt.legend()\n",
    "plt.show()\n",
    "\n"
   ]
  },
  {
   "cell_type": "code",
   "execution_count": null,
   "metadata": {},
   "outputs": [],
   "source": []
  }
 ],
 "metadata": {
  "accelerator": "GPU",
  "colab": {
   "gpuType": "T4",
   "provenance": []
  },
  "kernelspec": {
   "display_name": "Python 3",
   "language": "python",
   "name": "python3"
  },
  "language_info": {
   "codemirror_mode": {
    "name": "ipython",
    "version": 3
   },
   "file_extension": ".py",
   "mimetype": "text/x-python",
   "name": "python",
   "nbconvert_exporter": "python",
   "pygments_lexer": "ipython3",
   "version": "3.8.5"
  }
 },
 "nbformat": 4,
 "nbformat_minor": 1
}
