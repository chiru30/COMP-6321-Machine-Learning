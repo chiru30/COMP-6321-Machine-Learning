{
  "nbformat": 4,
  "nbformat_minor": 0,
  "metadata": {
    "colab": {
      "provenance": [],
      "authorship_tag": "ABX9TyOlC5COpuJUi0HPk9Tz/OqV",
      "include_colab_link": true
    },
    "kernelspec": {
      "name": "python3",
      "display_name": "Python 3"
    },
    "language_info": {
      "name": "python"
    }
  },
  "cells": [
    {
      "cell_type": "markdown",
      "metadata": {
        "id": "view-in-github",
        "colab_type": "text"
      },
      "source": [
        "<a href=\"https://colab.research.google.com/github/chiru30/COMP-6321-Machine-Learning/blob/main/major%20assignment/question%204/q4.ipynb\" target=\"_parent\"><img src=\"https://colab.research.google.com/assets/colab-badge.svg\" alt=\"Open In Colab\"/></a>"
      ]
    },
    {
      "cell_type": "code",
      "execution_count": 1,
      "metadata": {
        "id": "XYMhrgAfXEa9"
      },
      "outputs": [],
      "source": [
        "import torch\n",
        "import torch.nn as nn\n",
        "import torch.optim as optim\n",
        "from torch.utils.data import DataLoader\n",
        "from torchvision import transforms, datasets\n",
        "from torchvision.datasets import ImageFolder\n",
        "from sklearn.metrics import classification_report\n",
        "import matplotlib.pyplot as plt\n"
      ]
    },
    {
      "cell_type": "code",
      "source": [
        "!wget \"https://github.com/chiru30/COMP-6321-Machine-Learning/blob/main/major%20assignment/question%204/archive.zip\"\n",
        "!unzip \"archive.zip\""
      ],
      "metadata": {
        "colab": {
          "base_uri": "https://localhost:8080/"
        },
        "id": "DTB53YDqbwvD",
        "outputId": "c5cc595c-4be4-44e0-d44a-76bb218b5675"
      },
      "execution_count": 2,
      "outputs": [
        {
          "output_type": "stream",
          "name": "stdout",
          "text": [
            "--2023-10-27 08:07:47--  https://github.com/chiru30/COMP-6321-Machine-Learning/blob/main/major%20assignment/question%204/archive.zip\n",
            "Resolving github.com (github.com)... 140.82.113.4\n",
            "Connecting to github.com (github.com)|140.82.113.4|:443... connected.\n",
            "HTTP request sent, awaiting response... 200 OK\n",
            "Length: 5844 (5.7K) [text/plain]\n",
            "Saving to: ‘archive.zip.8’\n",
            "\n",
            "\rarchive.zip.8         0%[                    ]       0  --.-KB/s               \rarchive.zip.8       100%[===================>]   5.71K  --.-KB/s    in 0s      \n",
            "\n",
            "2023-10-27 08:07:48 (59.2 MB/s) - ‘archive.zip.8’ saved [5844/5844]\n",
            "\n",
            "Archive:  archive.zip\n",
            "  End-of-central-directory signature not found.  Either this file is not\n",
            "  a zipfile, or it constitutes one disk of a multi-part archive.  In the\n",
            "  latter case the central directory and zipfile comment will be found on\n",
            "  the last disk(s) of this archive.\n",
            "unzip:  cannot find zipfile directory in one of archive.zip or\n",
            "        archive.zip.zip, and cannot find archive.zip.ZIP, period.\n"
          ]
        }
      ]
    },
    {
      "cell_type": "code",
      "source": [
        "data_transform = transforms.Compose([\n",
        "    transforms.Resize((64, 64)),\n",
        "    transforms.ToTensor()\n",
        "])\n",
        "\n",
        "data_dir = \"/content/archive\"\n",
        "\n",
        "dataset = datasets.ImageFolder(root=data_dir, transform=data_transform)\n",
        "\n",
        "print(dataset.classes)\n"
      ],
      "metadata": {
        "colab": {
          "base_uri": "https://localhost:8080/"
        },
        "id": "OoZ_5pzazBHn",
        "outputId": "4611af3c-1976-4634-acdf-aeb13c9d29d7"
      },
      "execution_count": 3,
      "outputs": [
        {
          "output_type": "stream",
          "name": "stdout",
          "text": [
            "['AbdomenCT', 'BreastMRI', 'CXR', 'ChestCT', 'Hand', 'HeadCT']\n"
          ]
        }
      ]
    },
    {
      "cell_type": "code",
      "source": [
        "train_size = int(0.7 * len(dataset))\n",
        "test_size = len(dataset) - train_size\n",
        "\n",
        "train_dataset, test_dataset = torch.utils.data.random_split(dataset, [train_size, test_size])"
      ],
      "metadata": {
        "id": "M_BPaV-w0lUF"
      },
      "execution_count": 4,
      "outputs": []
    },
    {
      "cell_type": "code",
      "source": [
        "batch_size = 50\n",
        "train_loader = DataLoader(train_dataset, batch_size=batch_size, shuffle=True)\n",
        "test_loader = DataLoader(test_dataset, batch_size=batch_size)"
      ],
      "metadata": {
        "id": "MnSTvyVf0zv8"
      },
      "execution_count": 5,
      "outputs": []
    },
    {
      "cell_type": "code",
      "source": [
        "\n",
        "class SimpleCNN(nn.Module):\n",
        "    def __init__(self):\n",
        "        super(SimpleCNN, self).__init__()\n",
        "        self.conv1 = nn.Conv2d(in_channels=3, out_channels=16, kernel_size=3, stride=1, padding=1)\n",
        "        self.pool = nn.MaxPool2d(kernel_size=2, stride=2)\n",
        "        self.fc1 = nn.Linear(16 * 32 * 32, 64)  # Adjust the input size as needed\n",
        "        self.fc2 = nn.Linear(64, 6)  # Adjust num_classes based on your problem.\n",
        "\n",
        "    def forward(self, x):\n",
        "        x = self.pool(torch.relu(self.conv1(x)))\n",
        "        x = x.view(-1, 16 * 32 * 32)  # Adjust the input size as needed\n",
        "        x = torch.relu(self.fc1(x))\n",
        "        x = self.fc2(x)\n",
        "        return x\n",
        "\n",
        "# Create an instance of the model\n",
        "model = SimpleCNN()\n",
        "\n",
        "# Print the model to see the architecture\n",
        "print(model)\n"
      ],
      "metadata": {
        "colab": {
          "base_uri": "https://localhost:8080/"
        },
        "id": "_XTWgF4K6R8e",
        "outputId": "634f9343-de2f-4d53-b96c-edb762e1ce77"
      },
      "execution_count": 6,
      "outputs": [
        {
          "output_type": "stream",
          "name": "stdout",
          "text": [
            "SimpleCNN(\n",
            "  (conv1): Conv2d(3, 16, kernel_size=(3, 3), stride=(1, 1), padding=(1, 1))\n",
            "  (pool): MaxPool2d(kernel_size=2, stride=2, padding=0, dilation=1, ceil_mode=False)\n",
            "  (fc1): Linear(in_features=16384, out_features=64, bias=True)\n",
            "  (fc2): Linear(in_features=64, out_features=6, bias=True)\n",
            ")\n"
          ]
        }
      ]
    },
    {
      "cell_type": "code",
      "source": [
        "# Lists to store training accuracy and loss\n",
        "train_loss_values = []\n",
        "train_accuracy_values = []\n",
        "\n",
        "# Training loop\n",
        "num_epochs = 10\n",
        "\n",
        "criterion = nn.CrossEntropyLoss()\n",
        "optimizer = optim.SGD(model.parameters(), lr=0.001)\n",
        "\n",
        "\n",
        "for epoch in range(num_epochs):\n",
        "    model.train()\n",
        "    running_loss = 0.0\n",
        "    total_correct = 0\n",
        "    total_samples = 0\n",
        "\n",
        "    for inputs, labels in train_loader:\n",
        "        optimizer.zero_grad()\n",
        "\n",
        "        # Forward pass\n",
        "        outputs = model(inputs)\n",
        "        loss = criterion(outputs, labels)\n",
        "\n",
        "        # Backpropagation and optimization\n",
        "        loss.backward()\n",
        "        optimizer.step()\n",
        "\n",
        "        running_loss += loss.item()\n",
        "\n",
        "        # Calculate accuracy\n",
        "        _, predicted = torch.max(outputs, 1)\n",
        "        total_samples += labels.size(0)\n",
        "        total_correct += (predicted == labels).sum().item()\n",
        "\n",
        "    train_accuracy = 100 * total_correct / total_samples\n",
        "    train_loss = running_loss / len(train_loader)\n",
        "\n",
        "    train_accuracy_values.append(train_accuracy)\n",
        "    train_loss_values.append(train_loss)\n",
        "\n",
        "    print(f\"Epoch {epoch+1}, Training Loss: {train_loss}, Training Accuracy: {train_accuracy}%\")\n",
        "\n",
        "# Plot the training loss and accuracy\n",
        "plt.figure(figsize=(12, 4))\n",
        "plt.subplot(1, 2, 1)\n",
        "plt.plot(train_loss_values, label='Training Loss', color='blue')\n",
        "plt.xlabel('Epochs')\n",
        "plt.ylabel('Loss')\n",
        "plt.title('Training Loss')\n",
        "plt.legend()\n",
        "\n",
        "plt.subplot(1, 2, 2)\n",
        "plt.plot(train_accuracy_values, label='Training Accuracy', color='green')\n",
        "plt.xlabel('Epochs')\n",
        "plt.ylabel('Accuracy (%)')\n",
        "plt.title('Training Accuracy')\n",
        "plt.legend()\n",
        "\n",
        "plt.show()"
      ],
      "metadata": {
        "colab": {
          "base_uri": "https://localhost:8080/",
          "height": 580
        },
        "id": "F2GXaLITKoWg",
        "outputId": "0e2ee067-b960-4313-d82d-a985ea5dc759"
      },
      "execution_count": 8,
      "outputs": [
        {
          "output_type": "stream",
          "name": "stdout",
          "text": [
            "Epoch 1, Training Loss: 1.741665854340508, Training Accuracy: 24.047619047619047%\n",
            "Epoch 2, Training Loss: 1.6468738047849565, Training Accuracy: 31.714285714285715%\n",
            "Epoch 3, Training Loss: 1.509671695175625, Training Accuracy: 63.904761904761905%\n",
            "Epoch 4, Training Loss: 1.3207179620152427, Training Accuracy: 77.71428571428571%\n",
            "Epoch 5, Training Loss: 1.0928633503970646, Training Accuracy: 80.61904761904762%\n",
            "Epoch 6, Training Loss: 0.8615074831814993, Training Accuracy: 81.5%\n",
            "Epoch 7, Training Loss: 0.6689904168957755, Training Accuracy: 86.69047619047619%\n",
            "Epoch 8, Training Loss: 0.5385495214944794, Training Accuracy: 91.21428571428571%\n",
            "Epoch 9, Training Loss: 0.4541098638659432, Training Accuracy: 92.14285714285714%\n",
            "Epoch 10, Training Loss: 0.398314016915503, Training Accuracy: 93.47619047619048%\n"
          ]
        },
        {
          "output_type": "display_data",
          "data": {
            "text/plain": [
              "<Figure size 1200x400 with 2 Axes>"
            ],
            "image/png": "[encoded data removed]"
          },
          "metadata": {}
        }
      ]
    },
    {
      "cell_type": "code",
      "source": [
        "model.eval()  # Set the model to evaluation mode\n",
        "\n",
        "y_true = []\n",
        "y_pred = []\n",
        "\n",
        "with torch.no_grad():\n",
        "    for inputs, labels in test_loader:\n",
        "        outputs = model(inputs)\n",
        "        _, predicted = torch.max(outputs.data, 1)\n",
        "        y_true.extend(labels.numpy())\n",
        "        y_pred.extend(predicted.numpy())\n",
        "\n",
        "class_names = dataset.classes\n",
        "target_names = [class_names[i] for i in range(len(class_names))]\n",
        "report = classification_report(y_true, y_pred, target_names=target_names)\n",
        "print(report)"
      ],
      "metadata": {
        "colab": {
          "base_uri": "https://localhost:8080/"
        },
        "id": "BKN-EYXqLrfV",
        "outputId": "6ddad5e1-d5cf-49ed-dd5f-830f94638970"
      },
      "execution_count": 9,
      "outputs": [
        {
          "output_type": "stream",
          "name": "stdout",
          "text": [
            "              precision    recall  f1-score   support\n",
            "\n",
            "   AbdomenCT       0.98      0.92      0.95       300\n",
            "   BreastMRI       0.95      1.00      0.97       307\n",
            "         CXR       0.99      0.97      0.98       298\n",
            "     ChestCT       0.91      1.00      0.95       281\n",
            "        Hand       0.97      0.92      0.94       310\n",
            "      HeadCT       0.95      0.93      0.94       304\n",
            "\n",
            "    accuracy                           0.96      1800\n",
            "   macro avg       0.96      0.96      0.96      1800\n",
            "weighted avg       0.96      0.96      0.96      1800\n",
            "\n"
          ]
        }
      ]
    }
  ]
}